{
  "nbformat": 4,
  "nbformat_minor": 0,
  "metadata": {
    "colab": {
      "provenance": [],
      "machine_shape": "hm",
      "authorship_tag": "ABX9TyOegPV56mu01DO2vYcBSCkY",
      "include_colab_link": true
    },
    "kernelspec": {
      "name": "python3",
      "display_name": "Python 3"
    },
    "language_info": {
      "name": "python"
    }
  },
  "cells": [
    {
      "cell_type": "markdown",
      "metadata": {
        "id": "view-in-github",
        "colab_type": "text"
      },
      "source": [
        "<a href=\"https://colab.research.google.com/github/pdpavandesai/MergingDiabetesData/blob/main/Trained_Model_For_Diabetes_Prediction.ipynb\" target=\"_parent\"><img src=\"https://colab.research.google.com/assets/colab-badge.svg\" alt=\"Open In Colab\"/></a>"
      ]
    },
    {
      "cell_type": "code",
      "execution_count": null,
      "metadata": {
        "id": "flu_gxW3Eins"
      },
      "outputs": [],
      "source": [
        "import os\n",
        "import warnings\n",
        "from numpy.lib.polynomial import poly\n",
        "warnings.filterwarnings(\"ignore\")\n",
        "\n",
        "import pandas as pd\n",
        "import numpy as np\n",
        "import matplotlib.pyplot as plt\n",
        "import seaborn as sns\n",
        "from sklearn.neural_network import MLPClassifier\n",
        "from sklearn.model_selection import train_test_split\n",
        "from sklearn.metrics import classification_report, confusion_matrix\n",
        "from sklearn.tree import DecisionTreeClassifier\n",
        "from sklearn.linear_model import LogisticRegression\n",
        "from sklearn.svm import SVC"
      ]
    },
    {
      "cell_type": "code",
      "source": [
        "# Uploading symptomatic featured data and clinical test data\n",
        "\n",
        "from google.colab import files\n",
        "uploaded = files.upload()"
      ],
      "metadata": {
        "colab": {
          "base_uri": "https://localhost:8080/",
          "height": 109
        },
        "id": "_G22tqSpGXMs",
        "outputId": "5cbb4ca5-8da3-4cf4-bb01-c8bdd8a16e86"
      },
      "execution_count": null,
      "outputs": [
        {
          "output_type": "display_data",
          "data": {
            "text/plain": [
              "<IPython.core.display.HTML object>"
            ],
            "text/html": [
              "\n",
              "     <input type=\"file\" id=\"files-7cb9916a-e342-4dcb-93f7-fef7df0ab5ad\" name=\"files[]\" multiple disabled\n",
              "        style=\"border:none\" />\n",
              "     <output id=\"result-7cb9916a-e342-4dcb-93f7-fef7df0ab5ad\">\n",
              "      Upload widget is only available when the cell has been executed in the\n",
              "      current browser session. Please rerun this cell to enable.\n",
              "      </output>\n",
              "      <script>// Copyright 2017 Google LLC\n",
              "//\n",
              "// Licensed under the Apache License, Version 2.0 (the \"License\");\n",
              "// you may not use this file except in compliance with the License.\n",
              "// You may obtain a copy of the License at\n",
              "//\n",
              "//      http://www.apache.org/licenses/LICENSE-2.0\n",
              "//\n",
              "// Unless required by applicable law or agreed to in writing, software\n",
              "// distributed under the License is distributed on an \"AS IS\" BASIS,\n",
              "// WITHOUT WARRANTIES OR CONDITIONS OF ANY KIND, either express or implied.\n",
              "// See the License for the specific language governing permissions and\n",
              "// limitations under the License.\n",
              "\n",
              "/**\n",
              " * @fileoverview Helpers for google.colab Python module.\n",
              " */\n",
              "(function(scope) {\n",
              "function span(text, styleAttributes = {}) {\n",
              "  const element = document.createElement('span');\n",
              "  element.textContent = text;\n",
              "  for (const key of Object.keys(styleAttributes)) {\n",
              "    element.style[key] = styleAttributes[key];\n",
              "  }\n",
              "  return element;\n",
              "}\n",
              "\n",
              "// Max number of bytes which will be uploaded at a time.\n",
              "const MAX_PAYLOAD_SIZE = 100 * 1024;\n",
              "\n",
              "function _uploadFiles(inputId, outputId) {\n",
              "  const steps = uploadFilesStep(inputId, outputId);\n",
              "  const outputElement = document.getElementById(outputId);\n",
              "  // Cache steps on the outputElement to make it available for the next call\n",
              "  // to uploadFilesContinue from Python.\n",
              "  outputElement.steps = steps;\n",
              "\n",
              "  return _uploadFilesContinue(outputId);\n",
              "}\n",
              "\n",
              "// This is roughly an async generator (not supported in the browser yet),\n",
              "// where there are multiple asynchronous steps and the Python side is going\n",
              "// to poll for completion of each step.\n",
              "// This uses a Promise to block the python side on completion of each step,\n",
              "// then passes the result of the previous step as the input to the next step.\n",
              "function _uploadFilesContinue(outputId) {\n",
              "  const outputElement = document.getElementById(outputId);\n",
              "  const steps = outputElement.steps;\n",
              "\n",
              "  const next = steps.next(outputElement.lastPromiseValue);\n",
              "  return Promise.resolve(next.value.promise).then((value) => {\n",
              "    // Cache the last promise value to make it available to the next\n",
              "    // step of the generator.\n",
              "    outputElement.lastPromiseValue = value;\n",
              "    return next.value.response;\n",
              "  });\n",
              "}\n",
              "\n",
              "/**\n",
              " * Generator function which is called between each async step of the upload\n",
              " * process.\n",
              " * @param {string} inputId Element ID of the input file picker element.\n",
              " * @param {string} outputId Element ID of the output display.\n",
              " * @return {!Iterable<!Object>} Iterable of next steps.\n",
              " */\n",
              "function* uploadFilesStep(inputId, outputId) {\n",
              "  const inputElement = document.getElementById(inputId);\n",
              "  inputElement.disabled = false;\n",
              "\n",
              "  const outputElement = document.getElementById(outputId);\n",
              "  outputElement.innerHTML = '';\n",
              "\n",
              "  const pickedPromise = new Promise((resolve) => {\n",
              "    inputElement.addEventListener('change', (e) => {\n",
              "      resolve(e.target.files);\n",
              "    });\n",
              "  });\n",
              "\n",
              "  const cancel = document.createElement('button');\n",
              "  inputElement.parentElement.appendChild(cancel);\n",
              "  cancel.textContent = 'Cancel upload';\n",
              "  const cancelPromise = new Promise((resolve) => {\n",
              "    cancel.onclick = () => {\n",
              "      resolve(null);\n",
              "    };\n",
              "  });\n",
              "\n",
              "  // Wait for the user to pick the files.\n",
              "  const files = yield {\n",
              "    promise: Promise.race([pickedPromise, cancelPromise]),\n",
              "    response: {\n",
              "      action: 'starting',\n",
              "    }\n",
              "  };\n",
              "\n",
              "  cancel.remove();\n",
              "\n",
              "  // Disable the input element since further picks are not allowed.\n",
              "  inputElement.disabled = true;\n",
              "\n",
              "  if (!files) {\n",
              "    return {\n",
              "      response: {\n",
              "        action: 'complete',\n",
              "      }\n",
              "    };\n",
              "  }\n",
              "\n",
              "  for (const file of files) {\n",
              "    const li = document.createElement('li');\n",
              "    li.append(span(file.name, {fontWeight: 'bold'}));\n",
              "    li.append(span(\n",
              "        `(${file.type || 'n/a'}) - ${file.size} bytes, ` +\n",
              "        `last modified: ${\n",
              "            file.lastModifiedDate ? file.lastModifiedDate.toLocaleDateString() :\n",
              "                                    'n/a'} - `));\n",
              "    const percent = span('0% done');\n",
              "    li.appendChild(percent);\n",
              "\n",
              "    outputElement.appendChild(li);\n",
              "\n",
              "    const fileDataPromise = new Promise((resolve) => {\n",
              "      const reader = new FileReader();\n",
              "      reader.onload = (e) => {\n",
              "        resolve(e.target.result);\n",
              "      };\n",
              "      reader.readAsArrayBuffer(file);\n",
              "    });\n",
              "    // Wait for the data to be ready.\n",
              "    let fileData = yield {\n",
              "      promise: fileDataPromise,\n",
              "      response: {\n",
              "        action: 'continue',\n",
              "      }\n",
              "    };\n",
              "\n",
              "    // Use a chunked sending to avoid message size limits. See b/62115660.\n",
              "    let position = 0;\n",
              "    do {\n",
              "      const length = Math.min(fileData.byteLength - position, MAX_PAYLOAD_SIZE);\n",
              "      const chunk = new Uint8Array(fileData, position, length);\n",
              "      position += length;\n",
              "\n",
              "      const base64 = btoa(String.fromCharCode.apply(null, chunk));\n",
              "      yield {\n",
              "        response: {\n",
              "          action: 'append',\n",
              "          file: file.name,\n",
              "          data: base64,\n",
              "        },\n",
              "      };\n",
              "\n",
              "      let percentDone = fileData.byteLength === 0 ?\n",
              "          100 :\n",
              "          Math.round((position / fileData.byteLength) * 100);\n",
              "      percent.textContent = `${percentDone}% done`;\n",
              "\n",
              "    } while (position < fileData.byteLength);\n",
              "  }\n",
              "\n",
              "  // All done.\n",
              "  yield {\n",
              "    response: {\n",
              "      action: 'complete',\n",
              "    }\n",
              "  };\n",
              "}\n",
              "\n",
              "scope.google = scope.google || {};\n",
              "scope.google.colab = scope.google.colab || {};\n",
              "scope.google.colab._files = {\n",
              "  _uploadFiles,\n",
              "  _uploadFilesContinue,\n",
              "};\n",
              "})(self);\n",
              "</script> "
            ]
          },
          "metadata": {}
        },
        {
          "output_type": "stream",
          "name": "stdout",
          "text": [
            "Saving symptomatic_dataset.csv to symptomatic_dataset.csv\n",
            "Saving clinical_test_dataset.csv to clinical_test_dataset.csv\n"
          ]
        }
      ]
    },
    {
      "cell_type": "code",
      "source": [
        "# Reading symptomatic featured data and clinical test data\n",
        "symptomatic_data = pd.read_csv('symptomatic_dataset.csv')\n",
        "clinical_test_data = pd.read_csv('clinical_test_dataset.csv')"
      ],
      "metadata": {
        "id": "BpUolPSy_ss9"
      },
      "execution_count": null,
      "outputs": []
    },
    {
      "cell_type": "code",
      "source": [
        "# Creating a copy of above data\n",
        "sd_copy = symptomatic_data.copy()\n",
        "ctd_copy = clinical_test_data.copy()"
      ],
      "metadata": {
        "id": "mckwXsNjAc9v"
      },
      "execution_count": null,
      "outputs": []
    },
    {
      "cell_type": "code",
      "source": [
        "# Splitting symptomatic_data into training & testing data\n",
        "X_train_sd, X_test_sd, y_train_sd, y_test_sd = train_test_split(sd_copy.drop('Diabetes', axis=1), sd_copy['Diabetes'], test_size=0.25, random_state=42)"
      ],
      "metadata": {
        "id": "Kj_W2vfZCyHq"
      },
      "execution_count": null,
      "outputs": []
    },
    {
      "cell_type": "code",
      "source": [
        "# Splitting clinical_test_data into training & testing data\n",
        "X_train_ctd, X_test_ctd, y_train_ctd, y_test_ctd = train_test_split(ctd_copy.drop('Diabetes', axis=1), ctd_copy['Diabetes'], test_size=0.25, random_state=42)"
      ],
      "metadata": {
        "id": "KQTEUAKjDsrU"
      },
      "execution_count": null,
      "outputs": []
    },
    {
      "cell_type": "code",
      "source": [
        "# Training Decision Tree classifier for symptomatic dataset\n",
        "X_train_sd, X_test_sd, y_train_sd, y_test_sd = train_test_split(sd_copy.drop('Diabetes', axis=1), sd_copy['Diabetes'], test_size=0.25, random_state=42)\n",
        "model_sd = DecisionTreeClassifier()\n",
        "model_sd.fit(X_train_sd, y_train_sd)"
      ],
      "metadata": {
        "colab": {
          "base_uri": "https://localhost:8080/",
          "height": 75
        },
        "id": "qUnVwFc8EBTl",
        "outputId": "c235e7bc-0e56-4b5f-cc9d-c40a9a56bf45"
      },
      "execution_count": null,
      "outputs": [
        {
          "output_type": "execute_result",
          "data": {
            "text/plain": [
              "DecisionTreeClassifier()"
            ],
            "text/html": [
              "<style>#sk-container-id-1 {color: black;background-color: white;}#sk-container-id-1 pre{padding: 0;}#sk-container-id-1 div.sk-toggleable {background-color: white;}#sk-container-id-1 label.sk-toggleable__label {cursor: pointer;display: block;width: 100%;margin-bottom: 0;padding: 0.3em;box-sizing: border-box;text-align: center;}#sk-container-id-1 label.sk-toggleable__label-arrow:before {content: \"▸\";float: left;margin-right: 0.25em;color: #696969;}#sk-container-id-1 label.sk-toggleable__label-arrow:hover:before {color: black;}#sk-container-id-1 div.sk-estimator:hover label.sk-toggleable__label-arrow:before {color: black;}#sk-container-id-1 div.sk-toggleable__content {max-height: 0;max-width: 0;overflow: hidden;text-align: left;background-color: #f0f8ff;}#sk-container-id-1 div.sk-toggleable__content pre {margin: 0.2em;color: black;border-radius: 0.25em;background-color: #f0f8ff;}#sk-container-id-1 input.sk-toggleable__control:checked~div.sk-toggleable__content {max-height: 200px;max-width: 100%;overflow: auto;}#sk-container-id-1 input.sk-toggleable__control:checked~label.sk-toggleable__label-arrow:before {content: \"▾\";}#sk-container-id-1 div.sk-estimator input.sk-toggleable__control:checked~label.sk-toggleable__label {background-color: #d4ebff;}#sk-container-id-1 div.sk-label input.sk-toggleable__control:checked~label.sk-toggleable__label {background-color: #d4ebff;}#sk-container-id-1 input.sk-hidden--visually {border: 0;clip: rect(1px 1px 1px 1px);clip: rect(1px, 1px, 1px, 1px);height: 1px;margin: -1px;overflow: hidden;padding: 0;position: absolute;width: 1px;}#sk-container-id-1 div.sk-estimator {font-family: monospace;background-color: #f0f8ff;border: 1px dotted black;border-radius: 0.25em;box-sizing: border-box;margin-bottom: 0.5em;}#sk-container-id-1 div.sk-estimator:hover {background-color: #d4ebff;}#sk-container-id-1 div.sk-parallel-item::after {content: \"\";width: 100%;border-bottom: 1px solid gray;flex-grow: 1;}#sk-container-id-1 div.sk-label:hover label.sk-toggleable__label {background-color: #d4ebff;}#sk-container-id-1 div.sk-serial::before {content: \"\";position: absolute;border-left: 1px solid gray;box-sizing: border-box;top: 0;bottom: 0;left: 50%;z-index: 0;}#sk-container-id-1 div.sk-serial {display: flex;flex-direction: column;align-items: center;background-color: white;padding-right: 0.2em;padding-left: 0.2em;position: relative;}#sk-container-id-1 div.sk-item {position: relative;z-index: 1;}#sk-container-id-1 div.sk-parallel {display: flex;align-items: stretch;justify-content: center;background-color: white;position: relative;}#sk-container-id-1 div.sk-item::before, #sk-container-id-1 div.sk-parallel-item::before {content: \"\";position: absolute;border-left: 1px solid gray;box-sizing: border-box;top: 0;bottom: 0;left: 50%;z-index: -1;}#sk-container-id-1 div.sk-parallel-item {display: flex;flex-direction: column;z-index: 1;position: relative;background-color: white;}#sk-container-id-1 div.sk-parallel-item:first-child::after {align-self: flex-end;width: 50%;}#sk-container-id-1 div.sk-parallel-item:last-child::after {align-self: flex-start;width: 50%;}#sk-container-id-1 div.sk-parallel-item:only-child::after {width: 0;}#sk-container-id-1 div.sk-dashed-wrapped {border: 1px dashed gray;margin: 0 0.4em 0.5em 0.4em;box-sizing: border-box;padding-bottom: 0.4em;background-color: white;}#sk-container-id-1 div.sk-label label {font-family: monospace;font-weight: bold;display: inline-block;line-height: 1.2em;}#sk-container-id-1 div.sk-label-container {text-align: center;}#sk-container-id-1 div.sk-container {/* jupyter's `normalize.less` sets `[hidden] { display: none; }` but bootstrap.min.css set `[hidden] { display: none !important; }` so we also need the `!important` here to be able to override the default hidden behavior on the sphinx rendered scikit-learn.org. See: https://github.com/scikit-learn/scikit-learn/issues/21755 */display: inline-block !important;position: relative;}#sk-container-id-1 div.sk-text-repr-fallback {display: none;}</style><div id=\"sk-container-id-1\" class=\"sk-top-container\"><div class=\"sk-text-repr-fallback\"><pre>DecisionTreeClassifier()</pre><b>In a Jupyter environment, please rerun this cell to show the HTML representation or trust the notebook. <br />On GitHub, the HTML representation is unable to render, please try loading this page with nbviewer.org.</b></div><div class=\"sk-container\" hidden><div class=\"sk-item\"><div class=\"sk-estimator sk-toggleable\"><input class=\"sk-toggleable__control sk-hidden--visually\" id=\"sk-estimator-id-1\" type=\"checkbox\" checked><label for=\"sk-estimator-id-1\" class=\"sk-toggleable__label sk-toggleable__label-arrow\">DecisionTreeClassifier</label><div class=\"sk-toggleable__content\"><pre>DecisionTreeClassifier()</pre></div></div></div></div></div>"
            ]
          },
          "metadata": {},
          "execution_count": 14
        }
      ]
    },
    {
      "cell_type": "code",
      "source": [
        "# Training Multi-Layer Perceptron classifier for clinical feature dataset\n",
        "X_train_ctd, X_test_ctd, y_train_ctd, y_test_ctd = train_test_split(ctd_copy.drop('Diabetes', axis=1), ctd_copy['Diabetes'], test_size=0.25, random_state=42)\n",
        "model_ctd = MLPClassifier(hidden_layer_sizes=(128, 64, 32), activation='logistic', solver='lbfgs', max_iter= 2000)\n",
        "model_ctd.fit(X_train_ctd, y_train_ctd)"
      ],
      "metadata": {
        "colab": {
          "base_uri": "https://localhost:8080/",
          "height": 92
        },
        "id": "lojqwcUVFUJB",
        "outputId": "46c38289-c7b6-4e0a-931c-c64e31dc651d"
      },
      "execution_count": null,
      "outputs": [
        {
          "output_type": "execute_result",
          "data": {
            "text/plain": [
              "MLPClassifier(activation='logistic', hidden_layer_sizes=(128, 64, 32),\n",
              "              max_iter=2000, solver='lbfgs')"
            ],
            "text/html": [
              "<style>#sk-container-id-2 {color: black;background-color: white;}#sk-container-id-2 pre{padding: 0;}#sk-container-id-2 div.sk-toggleable {background-color: white;}#sk-container-id-2 label.sk-toggleable__label {cursor: pointer;display: block;width: 100%;margin-bottom: 0;padding: 0.3em;box-sizing: border-box;text-align: center;}#sk-container-id-2 label.sk-toggleable__label-arrow:before {content: \"▸\";float: left;margin-right: 0.25em;color: #696969;}#sk-container-id-2 label.sk-toggleable__label-arrow:hover:before {color: black;}#sk-container-id-2 div.sk-estimator:hover label.sk-toggleable__label-arrow:before {color: black;}#sk-container-id-2 div.sk-toggleable__content {max-height: 0;max-width: 0;overflow: hidden;text-align: left;background-color: #f0f8ff;}#sk-container-id-2 div.sk-toggleable__content pre {margin: 0.2em;color: black;border-radius: 0.25em;background-color: #f0f8ff;}#sk-container-id-2 input.sk-toggleable__control:checked~div.sk-toggleable__content {max-height: 200px;max-width: 100%;overflow: auto;}#sk-container-id-2 input.sk-toggleable__control:checked~label.sk-toggleable__label-arrow:before {content: \"▾\";}#sk-container-id-2 div.sk-estimator input.sk-toggleable__control:checked~label.sk-toggleable__label {background-color: #d4ebff;}#sk-container-id-2 div.sk-label input.sk-toggleable__control:checked~label.sk-toggleable__label {background-color: #d4ebff;}#sk-container-id-2 input.sk-hidden--visually {border: 0;clip: rect(1px 1px 1px 1px);clip: rect(1px, 1px, 1px, 1px);height: 1px;margin: -1px;overflow: hidden;padding: 0;position: absolute;width: 1px;}#sk-container-id-2 div.sk-estimator {font-family: monospace;background-color: #f0f8ff;border: 1px dotted black;border-radius: 0.25em;box-sizing: border-box;margin-bottom: 0.5em;}#sk-container-id-2 div.sk-estimator:hover {background-color: #d4ebff;}#sk-container-id-2 div.sk-parallel-item::after {content: \"\";width: 100%;border-bottom: 1px solid gray;flex-grow: 1;}#sk-container-id-2 div.sk-label:hover label.sk-toggleable__label {background-color: #d4ebff;}#sk-container-id-2 div.sk-serial::before {content: \"\";position: absolute;border-left: 1px solid gray;box-sizing: border-box;top: 0;bottom: 0;left: 50%;z-index: 0;}#sk-container-id-2 div.sk-serial {display: flex;flex-direction: column;align-items: center;background-color: white;padding-right: 0.2em;padding-left: 0.2em;position: relative;}#sk-container-id-2 div.sk-item {position: relative;z-index: 1;}#sk-container-id-2 div.sk-parallel {display: flex;align-items: stretch;justify-content: center;background-color: white;position: relative;}#sk-container-id-2 div.sk-item::before, #sk-container-id-2 div.sk-parallel-item::before {content: \"\";position: absolute;border-left: 1px solid gray;box-sizing: border-box;top: 0;bottom: 0;left: 50%;z-index: -1;}#sk-container-id-2 div.sk-parallel-item {display: flex;flex-direction: column;z-index: 1;position: relative;background-color: white;}#sk-container-id-2 div.sk-parallel-item:first-child::after {align-self: flex-end;width: 50%;}#sk-container-id-2 div.sk-parallel-item:last-child::after {align-self: flex-start;width: 50%;}#sk-container-id-2 div.sk-parallel-item:only-child::after {width: 0;}#sk-container-id-2 div.sk-dashed-wrapped {border: 1px dashed gray;margin: 0 0.4em 0.5em 0.4em;box-sizing: border-box;padding-bottom: 0.4em;background-color: white;}#sk-container-id-2 div.sk-label label {font-family: monospace;font-weight: bold;display: inline-block;line-height: 1.2em;}#sk-container-id-2 div.sk-label-container {text-align: center;}#sk-container-id-2 div.sk-container {/* jupyter's `normalize.less` sets `[hidden] { display: none; }` but bootstrap.min.css set `[hidden] { display: none !important; }` so we also need the `!important` here to be able to override the default hidden behavior on the sphinx rendered scikit-learn.org. See: https://github.com/scikit-learn/scikit-learn/issues/21755 */display: inline-block !important;position: relative;}#sk-container-id-2 div.sk-text-repr-fallback {display: none;}</style><div id=\"sk-container-id-2\" class=\"sk-top-container\"><div class=\"sk-text-repr-fallback\"><pre>MLPClassifier(activation=&#x27;logistic&#x27;, hidden_layer_sizes=(128, 64, 32),\n",
              "              max_iter=2000, solver=&#x27;lbfgs&#x27;)</pre><b>In a Jupyter environment, please rerun this cell to show the HTML representation or trust the notebook. <br />On GitHub, the HTML representation is unable to render, please try loading this page with nbviewer.org.</b></div><div class=\"sk-container\" hidden><div class=\"sk-item\"><div class=\"sk-estimator sk-toggleable\"><input class=\"sk-toggleable__control sk-hidden--visually\" id=\"sk-estimator-id-2\" type=\"checkbox\" checked><label for=\"sk-estimator-id-2\" class=\"sk-toggleable__label sk-toggleable__label-arrow\">MLPClassifier</label><div class=\"sk-toggleable__content\"><pre>MLPClassifier(activation=&#x27;logistic&#x27;, hidden_layer_sizes=(128, 64, 32),\n",
              "              max_iter=2000, solver=&#x27;lbfgs&#x27;)</pre></div></div></div></div></div>"
            ]
          },
          "metadata": {},
          "execution_count": 15
        }
      ]
    },
    {
      "cell_type": "code",
      "source": [
        "def patientSymptomaticToDiabetes(polyuria, polydipsia, suddenWeightLoss, partialParesis, polyphagia, visualBlurring, irritability):\n",
        "  patient_symptoms = pd.DataFrame({'Polyuria': [polyuria], 'Polydipsia': [polydipsia], 'SuddenWeightLoss': [suddenWeightLoss], 'PartialParesis': [partialParesis]\n",
        "                             ,'Polyphagia': [polyphagia],'Irritability':[irritability],'VisualBlurring':[visualBlurring]})\n",
        "  symptoms_based_prediction = model_sd.predict(patient_symptoms)\n",
        "  if symptoms_based_prediction == 1:\n",
        "    print('Recommended below medical tests:\\n')\n",
        "    print('1. Blood sugar test\\n')\n",
        "    print('2. Hb1Aclevel\\n')\n",
        "    print('3. Blood pressure test\\n')\n",
        "    print('4. Cholestrol test\\n')\n",
        "    print('5. BMI\\n')\n",
        "  else:\n",
        "    print('Recommended to consult a doctor as the symptoms are not leading to diabetes\\n')\n",
        "\n",
        "  return symptoms_based_prediction"
      ],
      "metadata": {
        "id": "VPBKZw2XL2oW"
      },
      "execution_count": null,
      "outputs": []
    },
    {
      "cell_type": "code",
      "source": [
        "def confirmingDiabetesAndProvidingRecommendation(age, bmi, haveHighBP, haveHighCholestrol, blood_glucose_level, Hb1Aclevel, patient):\n",
        "  patient_clinical_information = pd.DataFrame({'Age': [age], 'BMI': [bmi], 'HighChol': [haveHighBP], 'HighBP': [haveHighCholestrol]})\n",
        "  clinical_diabetic_confirmation = model_ctd.predict(patient_clinical_information)\n",
        "  if clinical_diabetic_confirmation == 1:\n",
        "    print('Based on your age & clinical data, we conclude and recommend the following:\\n')\n",
        "    if((age>=4 or age<=6) or (age>=9 or age<=11)):\n",
        "      if(blood_glucose_level >= 100 and blood_glucose_level <=120):\n",
        "        print('Dear ',patient,' your blood sugar level indicates you are pre-diabetic and we recommend you the following')\n",
        "      else:\n",
        "        print('Dear ',patient,' your blood sugar level indicates you are diabetic and we recommend you the following')\n",
        "    else:\n",
        "      print('')\n",
        "  else:\n",
        "    print('Recommended to consult a doctor as the symptoms are not leading to diabetes\\n')\n",
        "\n",
        "  return clinical_diabetic_confirmation"
      ],
      "metadata": {
        "id": "34f0M_l_R7i-"
      },
      "execution_count": null,
      "outputs": []
    },
    {
      "cell_type": "code",
      "source": [
        "def categorizeAge(age):\n",
        "  if age>=18 and age<=24:\n",
        "    return 1\n",
        "  elif age>=25 and age<=29:\n",
        "    return 2\n",
        "  elif age>=30 and age<=34:\n",
        "    return 3\n",
        "  elif age>=35 and age<=39:\n",
        "    return 4\n",
        "  elif age>=40 and age<=44:\n",
        "    return 5\n",
        "  elif age>=45 and age<=49:\n",
        "    return 6\n",
        "  elif age>=50 and age<=54:\n",
        "    return 7\n",
        "  elif age>=55 and age<=59:\n",
        "    return 8\n",
        "  elif age>=60 and age<=64:\n",
        "    return 9\n",
        "  elif age>=65 and age<=69:\n",
        "    return 10\n",
        "  elif age>= 70 and age<=74:\n",
        "    return 11\n",
        "  elif age>=75 and age<=79:\n",
        "    return 12\n",
        "  elif age>=80:\n",
        "    return 13\n",
        "  else:\n",
        "    return 0"
      ],
      "metadata": {
        "id": "OUGSsDe8khKX"
      },
      "execution_count": null,
      "outputs": []
    },
    {
      "cell_type": "code",
      "source": [
        "def consultApp():\n",
        "  polyuria = input('Do you have polyuria?\\n')\n",
        "  if polyuria.lower() == 'yes':\n",
        "    polyuria = 1\n",
        "  else:\n",
        "    polyuria = 0\n",
        "  polydipsia = input('Do you have polydipsia?\\n')\n",
        "  if polydipsia.lower() == 'yes':\n",
        "    polydipsia = 1\n",
        "  else:\n",
        "    polydipsia = 0\n",
        "  irritability = input('Do you have irritability?\\n')\n",
        "  if irritability.lower() == 'yes':\n",
        "    irritability = 1\n",
        "  else:\n",
        "    irritability = 0\n",
        "  visualBlurring = input('Do you have visual blurring?\\n')\n",
        "  if visualBlurring.lower() == 'yes':\n",
        "    visualBlurring = 1\n",
        "  else:\n",
        "    visualBlurring = 0\n",
        "  polyphagia = input('Do you have polyphagia?\\n')\n",
        "  if polyphagia.lower() == 'yes':\n",
        "    polyphagia = 1\n",
        "  else:\n",
        "    polyphagia = 0\n",
        "  suddenWeightLoss = input('Do you have sudden weight loss?\\n')\n",
        "  if suddenWeightLoss.lower() == 'yes':\n",
        "    suddenWeightLoss = 1\n",
        "  else:\n",
        "    suddenWeightLoss = 0\n",
        "  partialParesis = input('Do you have partial paresis?\\n')\n",
        "  if partialParesis.lower() == 'yes':\n",
        "    partialParesis = 1\n",
        "  else:\n",
        "    partialParesis = 0\n",
        "\n",
        "  age = int(input('Enter your age\\n'))\n",
        "  age = categorizeAge(age)\n",
        "  name = input('Enter your name\\n')\n",
        "\n",
        "  isSymptomaticToDiabetes = patientSymptomaticToDiabetes(polyuria, polydipsia, suddenWeightLoss, partialParesis, polyphagia, visualBlurring, irritability)\n",
        "  if isSymptomaticToDiabetes == 1:\n",
        "    bmi = float(input('Enter your BMI\\n'))\n",
        "    haveHighBP = input('Do you have high blood pressure?\\n')\n",
        "    if haveHighBP.lower() == 'yes':\n",
        "      haveHighBP = 1\n",
        "    else:\n",
        "      haveHighBP = 0\n",
        "    haveHighCholestrol = input('Do you have high cholestrol?\\n')\n",
        "    if haveHighCholestrol.lower() == 'yes':\n",
        "      haveHighCholestrol = 1\n",
        "    else:\n",
        "      haveHighCholestrol = 0\n",
        "    fastingSugarLevel = float(input('Enter your fasting sugar level\\n'))\n",
        "    postSugarLevel = float(input('Enter your post sugar level\\n'))\n",
        "    Hb1Aclevel = float(input('Enter your Hb1Ac level\\n'))\n",
        "\n",
        "    confirmingDiabetesAndProvidingRecommendation(age, bmi, haveHighBP, haveHighCholestrol, fastingSugarLevel, postSugarLevel, Hb1Aclevel, name)"
      ],
      "metadata": {
        "id": "tktTeoSUgfg1"
      },
      "execution_count": null,
      "outputs": []
    },
    {
      "cell_type": "code",
      "source": [
        "consultApp()"
      ],
      "metadata": {
        "colab": {
          "base_uri": "https://localhost:8080/"
        },
        "id": "XOAcMgzFjszu",
        "outputId": "0343dc51-1dff-40ef-a079-1fe368ad5ef5"
      },
      "execution_count": null,
      "outputs": [
        {
          "output_type": "stream",
          "name": "stdout",
          "text": [
            "Do you have polyuria?\n",
            "yes\n",
            "Do you have polydipsia?\n",
            "no\n",
            "Do you have irritability?\n",
            "no\n",
            "Do you have visual blurring?\n",
            "yes\n",
            "Do you have polyphagia?\n",
            "yes\n",
            "Do you have sudden weight loss?\n",
            "no\n",
            "Do you have partial paresis?\n",
            "no\n",
            "Enter your age\n",
            "34\n",
            "Enter your name\n",
            "Desai\n",
            "Recommended below medical tests:\n",
            "\n",
            "1. Blood sugar test\n",
            "\n",
            "2. Hb1Aclevel\n",
            "\n",
            "3. Blood pressure test\n",
            "\n",
            "4. Cholestrol test\n",
            "\n",
            "5. BMI\n",
            "\n",
            "Enter your BMI\n",
            "20\n",
            "Do you have high blood pressure?\n",
            "no\n",
            "Do you have high cholestrol?\n",
            "no\n",
            "Enter your fasting sugar level\n",
            "120\n",
            "Enter your post sugar level\n",
            "200\n",
            "Enter your Hb1Ac level\n",
            "12\n",
            "Recommended to consult a doctor as the symptoms are not leading to diabetes\n",
            "\n"
          ]
        }
      ]
    },
    {
      "cell_type": "code",
      "source": [],
      "metadata": {
        "id": "-ezOPrq5j3XK"
      },
      "execution_count": null,
      "outputs": []
    }
  ]
}