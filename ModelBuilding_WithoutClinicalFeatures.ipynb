{
  "nbformat": 4,
  "nbformat_minor": 0,
  "metadata": {
    "colab": {
      "provenance": [],
      "authorship_tag": "ABX9TyOIGkrC8sKAHohAvILMZWct",
      "include_colab_link": true
    },
    "kernelspec": {
      "name": "python3",
      "display_name": "Python 3"
    },
    "language_info": {
      "name": "python"
    }
  },
  "cells": [
    {
      "cell_type": "markdown",
      "metadata": {
        "id": "view-in-github",
        "colab_type": "text"
      },
      "source": [
        "<a href=\"https://colab.research.google.com/github/pdpavandesai/MergingDiabetesData/blob/main/ModelBuilding_WithoutClinicalFeatures.ipynb\" target=\"_parent\"><img src=\"https://colab.research.google.com/assets/colab-badge.svg\" alt=\"Open In Colab\"/></a>"
      ]
    },
    {
      "cell_type": "code",
      "execution_count": 1,
      "metadata": {
        "id": "qTmnBElxP4vS"
      },
      "outputs": [],
      "source": [
        "import warnings\n",
        "import numpy as np\n",
        "import pandas as pd\n",
        "import io\n",
        "import matplotlib.pyplot as plt\n",
        "import seaborn as sns\n",
        "warnings.filterwarnings('ignore')\n",
        "from sklearn.model_selection import train_test_split\n",
        "from sklearn.neural_network import MLPClassifier"
      ]
    },
    {
      "cell_type": "code",
      "source": [
        "from google.colab import files\n",
        "uploaded = files.upload()"
      ],
      "metadata": {
        "colab": {
          "base_uri": "https://localhost:8080/",
          "height": 74
        },
        "id": "HOUbiFluP-mz",
        "outputId": "8891bff9-2737-4a62-aec7-d05a6f228ead"
      },
      "execution_count": 2,
      "outputs": [
        {
          "output_type": "display_data",
          "data": {
            "text/plain": [
              "<IPython.core.display.HTML object>"
            ],
            "text/html": [
              "\n",
              "     <input type=\"file\" id=\"files-8fdb765e-e3f9-45c0-8cd6-cac875b5896e\" name=\"files[]\" multiple disabled\n",
              "        style=\"border:none\" />\n",
              "     <output id=\"result-8fdb765e-e3f9-45c0-8cd6-cac875b5896e\">\n",
              "      Upload widget is only available when the cell has been executed in the\n",
              "      current browser session. Please rerun this cell to enable.\n",
              "      </output>\n",
              "      <script>// Copyright 2017 Google LLC\n",
              "//\n",
              "// Licensed under the Apache License, Version 2.0 (the \"License\");\n",
              "// you may not use this file except in compliance with the License.\n",
              "// You may obtain a copy of the License at\n",
              "//\n",
              "//      http://www.apache.org/licenses/LICENSE-2.0\n",
              "//\n",
              "// Unless required by applicable law or agreed to in writing, software\n",
              "// distributed under the License is distributed on an \"AS IS\" BASIS,\n",
              "// WITHOUT WARRANTIES OR CONDITIONS OF ANY KIND, either express or implied.\n",
              "// See the License for the specific language governing permissions and\n",
              "// limitations under the License.\n",
              "\n",
              "/**\n",
              " * @fileoverview Helpers for google.colab Python module.\n",
              " */\n",
              "(function(scope) {\n",
              "function span(text, styleAttributes = {}) {\n",
              "  const element = document.createElement('span');\n",
              "  element.textContent = text;\n",
              "  for (const key of Object.keys(styleAttributes)) {\n",
              "    element.style[key] = styleAttributes[key];\n",
              "  }\n",
              "  return element;\n",
              "}\n",
              "\n",
              "// Max number of bytes which will be uploaded at a time.\n",
              "const MAX_PAYLOAD_SIZE = 100 * 1024;\n",
              "\n",
              "function _uploadFiles(inputId, outputId) {\n",
              "  const steps = uploadFilesStep(inputId, outputId);\n",
              "  const outputElement = document.getElementById(outputId);\n",
              "  // Cache steps on the outputElement to make it available for the next call\n",
              "  // to uploadFilesContinue from Python.\n",
              "  outputElement.steps = steps;\n",
              "\n",
              "  return _uploadFilesContinue(outputId);\n",
              "}\n",
              "\n",
              "// This is roughly an async generator (not supported in the browser yet),\n",
              "// where there are multiple asynchronous steps and the Python side is going\n",
              "// to poll for completion of each step.\n",
              "// This uses a Promise to block the python side on completion of each step,\n",
              "// then passes the result of the previous step as the input to the next step.\n",
              "function _uploadFilesContinue(outputId) {\n",
              "  const outputElement = document.getElementById(outputId);\n",
              "  const steps = outputElement.steps;\n",
              "\n",
              "  const next = steps.next(outputElement.lastPromiseValue);\n",
              "  return Promise.resolve(next.value.promise).then((value) => {\n",
              "    // Cache the last promise value to make it available to the next\n",
              "    // step of the generator.\n",
              "    outputElement.lastPromiseValue = value;\n",
              "    return next.value.response;\n",
              "  });\n",
              "}\n",
              "\n",
              "/**\n",
              " * Generator function which is called between each async step of the upload\n",
              " * process.\n",
              " * @param {string} inputId Element ID of the input file picker element.\n",
              " * @param {string} outputId Element ID of the output display.\n",
              " * @return {!Iterable<!Object>} Iterable of next steps.\n",
              " */\n",
              "function* uploadFilesStep(inputId, outputId) {\n",
              "  const inputElement = document.getElementById(inputId);\n",
              "  inputElement.disabled = false;\n",
              "\n",
              "  const outputElement = document.getElementById(outputId);\n",
              "  outputElement.innerHTML = '';\n",
              "\n",
              "  const pickedPromise = new Promise((resolve) => {\n",
              "    inputElement.addEventListener('change', (e) => {\n",
              "      resolve(e.target.files);\n",
              "    });\n",
              "  });\n",
              "\n",
              "  const cancel = document.createElement('button');\n",
              "  inputElement.parentElement.appendChild(cancel);\n",
              "  cancel.textContent = 'Cancel upload';\n",
              "  const cancelPromise = new Promise((resolve) => {\n",
              "    cancel.onclick = () => {\n",
              "      resolve(null);\n",
              "    };\n",
              "  });\n",
              "\n",
              "  // Wait for the user to pick the files.\n",
              "  const files = yield {\n",
              "    promise: Promise.race([pickedPromise, cancelPromise]),\n",
              "    response: {\n",
              "      action: 'starting',\n",
              "    }\n",
              "  };\n",
              "\n",
              "  cancel.remove();\n",
              "\n",
              "  // Disable the input element since further picks are not allowed.\n",
              "  inputElement.disabled = true;\n",
              "\n",
              "  if (!files) {\n",
              "    return {\n",
              "      response: {\n",
              "        action: 'complete',\n",
              "      }\n",
              "    };\n",
              "  }\n",
              "\n",
              "  for (const file of files) {\n",
              "    const li = document.createElement('li');\n",
              "    li.append(span(file.name, {fontWeight: 'bold'}));\n",
              "    li.append(span(\n",
              "        `(${file.type || 'n/a'}) - ${file.size} bytes, ` +\n",
              "        `last modified: ${\n",
              "            file.lastModifiedDate ? file.lastModifiedDate.toLocaleDateString() :\n",
              "                                    'n/a'} - `));\n",
              "    const percent = span('0% done');\n",
              "    li.appendChild(percent);\n",
              "\n",
              "    outputElement.appendChild(li);\n",
              "\n",
              "    const fileDataPromise = new Promise((resolve) => {\n",
              "      const reader = new FileReader();\n",
              "      reader.onload = (e) => {\n",
              "        resolve(e.target.result);\n",
              "      };\n",
              "      reader.readAsArrayBuffer(file);\n",
              "    });\n",
              "    // Wait for the data to be ready.\n",
              "    let fileData = yield {\n",
              "      promise: fileDataPromise,\n",
              "      response: {\n",
              "        action: 'continue',\n",
              "      }\n",
              "    };\n",
              "\n",
              "    // Use a chunked sending to avoid message size limits. See b/62115660.\n",
              "    let position = 0;\n",
              "    do {\n",
              "      const length = Math.min(fileData.byteLength - position, MAX_PAYLOAD_SIZE);\n",
              "      const chunk = new Uint8Array(fileData, position, length);\n",
              "      position += length;\n",
              "\n",
              "      const base64 = btoa(String.fromCharCode.apply(null, chunk));\n",
              "      yield {\n",
              "        response: {\n",
              "          action: 'append',\n",
              "          file: file.name,\n",
              "          data: base64,\n",
              "        },\n",
              "      };\n",
              "\n",
              "      let percentDone = fileData.byteLength === 0 ?\n",
              "          100 :\n",
              "          Math.round((position / fileData.byteLength) * 100);\n",
              "      percent.textContent = `${percentDone}% done`;\n",
              "\n",
              "    } while (position < fileData.byteLength);\n",
              "  }\n",
              "\n",
              "  // All done.\n",
              "  yield {\n",
              "    response: {\n",
              "      action: 'complete',\n",
              "    }\n",
              "  };\n",
              "}\n",
              "\n",
              "scope.google = scope.google || {};\n",
              "scope.google.colab = scope.google.colab || {};\n",
              "scope.google.colab._files = {\n",
              "  _uploadFiles,\n",
              "  _uploadFilesContinue,\n",
              "};\n",
              "})(self);\n",
              "</script> "
            ]
          },
          "metadata": {}
        },
        {
          "output_type": "stream",
          "name": "stdout",
          "text": [
            "Saving FinalMergedDS.csv to FinalMergedDS.csv\n"
          ]
        }
      ]
    },
    {
      "cell_type": "code",
      "source": [
        "fmds_actual = pd.read_csv('FinalMergedDS.csv')\n",
        "fmds_copy = fmds_actual.copy()\n",
        "print(\"Shape of FMDS before removing duplicates: \",fmds_copy.shape)\n",
        "actual_rows = fmds_copy.shape[0]\n",
        "fmds_copy = fmds_copy.drop_duplicates()\n",
        "print('Shape of dataset after removing the duplicates: ',fmds_copy.shape)\n",
        "rows_after_deleting_duplicates = fmds_copy.shape[0]\n",
        "print('No.of Duplicate rows in the Ishan Dutta''s Dataset = ', (actual_rows - rows_after_deleting_duplicates))"
      ],
      "metadata": {
        "colab": {
          "base_uri": "https://localhost:8080/"
        },
        "id": "XpD2mkQRRAxt",
        "outputId": "e068a98d-4614-4470-f14f-23e7f8beff2f"
      },
      "execution_count": 4,
      "outputs": [
        {
          "output_type": "stream",
          "name": "stdout",
          "text": [
            "Shape of FMDS before removing duplicates:  (267882, 5)\n",
            "Shape of dataset after removing the duplicates:  (25802, 5)\n",
            "No.of Duplicate rows in the Ishan Duttas Dataset =  242080\n"
          ]
        }
      ]
    },
    {
      "cell_type": "code",
      "source": [
        "print(fmds_copy.head())\n",
        "print('')\n",
        "print('===Information of FMDS===')\n",
        "print(fmds_copy.info())\n",
        "print('')\n",
        "print('===Description of FMDS===')\n",
        "print(fmds_copy.describe())"
      ],
      "metadata": {
        "colab": {
          "base_uri": "https://localhost:8080/"
        },
        "id": "xl_L5E8-SnoD",
        "outputId": "e3b74dec-74df-4efd-a773-bfeba5c6b6c4"
      },
      "execution_count": 5,
      "outputs": [
        {
          "output_type": "stream",
          "name": "stdout",
          "text": [
            "   Age   BMI  HighChol  HighBP  Diabetes\n",
            "0    9  40.0         1       1         0\n",
            "1    7  25.0         0       0         0\n",
            "2    9  28.0         1       1         0\n",
            "3   11  27.0         0       1         0\n",
            "4   11  24.0         1       1         0\n",
            "\n",
            "===Information of FMDS===\n",
            "<class 'pandas.core.frame.DataFrame'>\n",
            "Int64Index: 25802 entries, 0 to 267878\n",
            "Data columns (total 5 columns):\n",
            " #   Column    Non-Null Count  Dtype  \n",
            "---  ------    --------------  -----  \n",
            " 0   Age       25802 non-null  int64  \n",
            " 1   BMI       25802 non-null  float64\n",
            " 2   HighChol  25802 non-null  int64  \n",
            " 3   HighBP    25802 non-null  int64  \n",
            " 4   Diabetes  25802 non-null  int64  \n",
            "dtypes: float64(1), int64(4)\n",
            "memory usage: 1.2 MB\n",
            "None\n",
            "\n",
            "===Description of FMDS===\n",
            "                Age           BMI      HighChol        HighBP      Diabetes\n",
            "count  25802.000000  25802.000000  25802.000000  25802.000000  25802.000000\n",
            "mean       6.605806     28.373999      0.218123      0.187001      0.165181\n",
            "std        3.836438      6.162468      0.412979      0.389920      0.371351\n",
            "min        0.000000     13.520000      0.000000      0.000000      0.000000\n",
            "25%        3.000000     23.720000      0.000000      0.000000      0.000000\n",
            "50%        7.000000     28.090000      0.000000      0.000000      0.000000\n",
            "75%       10.000000     32.960000      0.000000      0.000000      0.000000\n",
            "max       13.000000     41.490000      1.000000      1.000000      1.000000\n"
          ]
        }
      ]
    },
    {
      "cell_type": "code",
      "source": [
        "print('===No.of Unique Values===')\n",
        "print(fmds_copy.nunique())\n",
        "print('')\n",
        "print('===Check for any NAN values===')\n",
        "print(fmds_copy.isnull().sum())"
      ],
      "metadata": {
        "colab": {
          "base_uri": "https://localhost:8080/"
        },
        "id": "Gz-M0M4ETFY2",
        "outputId": "a5146909-f318-4998-8f0d-8061328e3382"
      },
      "execution_count": 6,
      "outputs": [
        {
          "output_type": "stream",
          "name": "stdout",
          "text": [
            "===No.of Unique Values===\n",
            "Age           14\n",
            "BMI         2708\n",
            "HighChol       2\n",
            "HighBP         2\n",
            "Diabetes       2\n",
            "dtype: int64\n",
            "\n",
            "===Check for any NAN values===\n",
            "Age         0\n",
            "BMI         0\n",
            "HighChol    0\n",
            "HighBP      0\n",
            "Diabetes    0\n",
            "dtype: int64\n"
          ]
        }
      ]
    },
    {
      "cell_type": "code",
      "source": [
        "# Splitting data into training & testing data\n",
        "X_train, X_test, y_train, y_test = train_test_split(fmds_copy.drop('Diabetes', axis=1), fmds_copy['Diabetes'], test_size=0.25, random_state=42)"
      ],
      "metadata": {
        "id": "umRZrbQDGbSd"
      },
      "execution_count": 7,
      "outputs": []
    },
    {
      "cell_type": "code",
      "source": [
        "# Creating ANN with stochastic gradient based optimizer\n",
        "model = MLPClassifier(hidden_layer_sizes=(128, 64, 32), activation='relu', solver='adam', max_iter=1000)"
      ],
      "metadata": {
        "id": "eiuJswMKdFQI"
      },
      "execution_count": 8,
      "outputs": []
    },
    {
      "cell_type": "code",
      "source": [
        "# Training the model\n",
        "model.fit(X_train, y_train)"
      ],
      "metadata": {
        "id": "edR9HlwwdTL6",
        "outputId": "68c4dfc6-17b7-4637-b82e-86a2098d7ebf",
        "colab": {
          "base_uri": "https://localhost:8080/",
          "height": 75
        }
      },
      "execution_count": 9,
      "outputs": [
        {
          "output_type": "execute_result",
          "data": {
            "text/plain": [
              "MLPClassifier(hidden_layer_sizes=(128, 64, 32), max_iter=1000)"
            ],
            "text/html": [
              "<style>#sk-container-id-1 {color: black;background-color: white;}#sk-container-id-1 pre{padding: 0;}#sk-container-id-1 div.sk-toggleable {background-color: white;}#sk-container-id-1 label.sk-toggleable__label {cursor: pointer;display: block;width: 100%;margin-bottom: 0;padding: 0.3em;box-sizing: border-box;text-align: center;}#sk-container-id-1 label.sk-toggleable__label-arrow:before {content: \"▸\";float: left;margin-right: 0.25em;color: #696969;}#sk-container-id-1 label.sk-toggleable__label-arrow:hover:before {color: black;}#sk-container-id-1 div.sk-estimator:hover label.sk-toggleable__label-arrow:before {color: black;}#sk-container-id-1 div.sk-toggleable__content {max-height: 0;max-width: 0;overflow: hidden;text-align: left;background-color: #f0f8ff;}#sk-container-id-1 div.sk-toggleable__content pre {margin: 0.2em;color: black;border-radius: 0.25em;background-color: #f0f8ff;}#sk-container-id-1 input.sk-toggleable__control:checked~div.sk-toggleable__content {max-height: 200px;max-width: 100%;overflow: auto;}#sk-container-id-1 input.sk-toggleable__control:checked~label.sk-toggleable__label-arrow:before {content: \"▾\";}#sk-container-id-1 div.sk-estimator input.sk-toggleable__control:checked~label.sk-toggleable__label {background-color: #d4ebff;}#sk-container-id-1 div.sk-label input.sk-toggleable__control:checked~label.sk-toggleable__label {background-color: #d4ebff;}#sk-container-id-1 input.sk-hidden--visually {border: 0;clip: rect(1px 1px 1px 1px);clip: rect(1px, 1px, 1px, 1px);height: 1px;margin: -1px;overflow: hidden;padding: 0;position: absolute;width: 1px;}#sk-container-id-1 div.sk-estimator {font-family: monospace;background-color: #f0f8ff;border: 1px dotted black;border-radius: 0.25em;box-sizing: border-box;margin-bottom: 0.5em;}#sk-container-id-1 div.sk-estimator:hover {background-color: #d4ebff;}#sk-container-id-1 div.sk-parallel-item::after {content: \"\";width: 100%;border-bottom: 1px solid gray;flex-grow: 1;}#sk-container-id-1 div.sk-label:hover label.sk-toggleable__label {background-color: #d4ebff;}#sk-container-id-1 div.sk-serial::before {content: \"\";position: absolute;border-left: 1px solid gray;box-sizing: border-box;top: 0;bottom: 0;left: 50%;z-index: 0;}#sk-container-id-1 div.sk-serial {display: flex;flex-direction: column;align-items: center;background-color: white;padding-right: 0.2em;padding-left: 0.2em;position: relative;}#sk-container-id-1 div.sk-item {position: relative;z-index: 1;}#sk-container-id-1 div.sk-parallel {display: flex;align-items: stretch;justify-content: center;background-color: white;position: relative;}#sk-container-id-1 div.sk-item::before, #sk-container-id-1 div.sk-parallel-item::before {content: \"\";position: absolute;border-left: 1px solid gray;box-sizing: border-box;top: 0;bottom: 0;left: 50%;z-index: -1;}#sk-container-id-1 div.sk-parallel-item {display: flex;flex-direction: column;z-index: 1;position: relative;background-color: white;}#sk-container-id-1 div.sk-parallel-item:first-child::after {align-self: flex-end;width: 50%;}#sk-container-id-1 div.sk-parallel-item:last-child::after {align-self: flex-start;width: 50%;}#sk-container-id-1 div.sk-parallel-item:only-child::after {width: 0;}#sk-container-id-1 div.sk-dashed-wrapped {border: 1px dashed gray;margin: 0 0.4em 0.5em 0.4em;box-sizing: border-box;padding-bottom: 0.4em;background-color: white;}#sk-container-id-1 div.sk-label label {font-family: monospace;font-weight: bold;display: inline-block;line-height: 1.2em;}#sk-container-id-1 div.sk-label-container {text-align: center;}#sk-container-id-1 div.sk-container {/* jupyter's `normalize.less` sets `[hidden] { display: none; }` but bootstrap.min.css set `[hidden] { display: none !important; }` so we also need the `!important` here to be able to override the default hidden behavior on the sphinx rendered scikit-learn.org. See: https://github.com/scikit-learn/scikit-learn/issues/21755 */display: inline-block !important;position: relative;}#sk-container-id-1 div.sk-text-repr-fallback {display: none;}</style><div id=\"sk-container-id-1\" class=\"sk-top-container\"><div class=\"sk-text-repr-fallback\"><pre>MLPClassifier(hidden_layer_sizes=(128, 64, 32), max_iter=1000)</pre><b>In a Jupyter environment, please rerun this cell to show the HTML representation or trust the notebook. <br />On GitHub, the HTML representation is unable to render, please try loading this page with nbviewer.org.</b></div><div class=\"sk-container\" hidden><div class=\"sk-item\"><div class=\"sk-estimator sk-toggleable\"><input class=\"sk-toggleable__control sk-hidden--visually\" id=\"sk-estimator-id-1\" type=\"checkbox\" checked><label for=\"sk-estimator-id-1\" class=\"sk-toggleable__label sk-toggleable__label-arrow\">MLPClassifier</label><div class=\"sk-toggleable__content\"><pre>MLPClassifier(hidden_layer_sizes=(128, 64, 32), max_iter=1000)</pre></div></div></div></div></div>"
            ]
          },
          "metadata": {},
          "execution_count": 9
        }
      ]
    },
    {
      "cell_type": "code",
      "source": [],
      "metadata": {
        "id": "CpVFM0G6iFwn"
      },
      "execution_count": null,
      "outputs": []
    },
    {
      "cell_type": "code",
      "source": [
        "# Evaluate model on test set\n",
        "accuracy = model.score(X_test, y_test)\n",
        "print('Accuracy when ''adam'' solver is used:', accuracy)"
      ],
      "metadata": {
        "id": "Am8DOF1kdWCu",
        "outputId": "0b7ecc50-cad9-4448-b1aa-bb920395863f",
        "colab": {
          "base_uri": "https://localhost:8080/"
        }
      },
      "execution_count": 18,
      "outputs": [
        {
          "output_type": "stream",
          "name": "stdout",
          "text": [
            "Accuracy when adam solver is used: 0.8660672763912571\n"
          ]
        }
      ]
    },
    {
      "cell_type": "code",
      "source": [
        "# Make predictions on new data\n",
        "new_data = pd.DataFrame({'Age': [10], 'BMI': [34], 'HighChol': [1], 'HighBP': [1]})\n",
        "predictions = model.predict(new_data)"
      ],
      "metadata": {
        "id": "T8xW4B7JdvJw"
      },
      "execution_count": 12,
      "outputs": []
    },
    {
      "cell_type": "code",
      "source": [
        "if predictions == 1:\n",
        "  print('Chance for diabetes')\n",
        "else:\n",
        "  print('No/Less chance of diabetes')"
      ],
      "metadata": {
        "id": "gAqEWlWihVD-",
        "outputId": "b78479e4-cc8e-45cf-a583-21505674c705",
        "colab": {
          "base_uri": "https://localhost:8080/"
        }
      },
      "execution_count": 14,
      "outputs": [
        {
          "output_type": "stream",
          "name": "stdout",
          "text": [
            "Patient is not diabetic\n"
          ]
        }
      ]
    },
    {
      "cell_type": "code",
      "source": [
        "# Creating ANN with stochastic gradient\n",
        "for max_iterations in range(1000,2000,200):\n",
        "  for solvers in ['lbfgs','sgd','adam']:\n",
        "    model_sgd = MLPClassifier(hidden_layer_sizes=(128, 64, 32), activation='relu', solver=solvers, max_iter= max_iterations)\n",
        "    # Training model_sgd\n",
        "    model_sgd.fit(X_train, y_train)\n",
        "    # Evaluate model_sgd on test set\n",
        "    accuracy = model_sgd.score(X_test, y_test)\n",
        "    print('Accuracy when', solvers, 'solver is used:', accuracy,' when max_iter = ',max_iterations)\n",
        "    # Make predictions on new data\n",
        "    new_data = pd.DataFrame({'Age': [10], 'BMI': [34], 'HighChol': [1], 'HighBP': [1]})\n",
        "    predictions_sgg_model_sgd = model_sgd.predict(new_data)\n",
        "    if predictions_sgg_model_sgd == 1:\n",
        "      print('Chance for diabetes')\n",
        "      print('')\n",
        "    else:\n",
        "      print('No/Less chance of diabetes')\n",
        "      print('')"
      ],
      "metadata": {
        "id": "IlwVDtFzhWXN",
        "outputId": "b5170c2a-5642-4da0-c399-403401f65825",
        "colab": {
          "base_uri": "https://localhost:8080/"
        }
      },
      "execution_count": 20,
      "outputs": [
        {
          "output_type": "stream",
          "name": "stdout",
          "text": [
            "Accuracy when lbfgs solver is used: 0.8662222911176561  when max_iter =  1000\n",
            "No/Less chance of diabetes\n",
            "\n",
            "Accuracy when sgd solver is used: 0.8674624089288483  when max_iter =  1000\n",
            "No/Less chance of diabetes\n",
            "\n",
            "Accuracy when adam solver is used: 0.8718028212680204  when max_iter =  1000\n",
            "No/Less chance of diabetes\n",
            "\n",
            "Accuracy when lbfgs solver is used: 0.8640520849480701  when max_iter =  1200\n",
            "No/Less chance of diabetes\n",
            "\n",
            "Accuracy when sgd solver is used: 0.8662222911176561  when max_iter =  1200\n",
            "No/Less chance of diabetes\n",
            "\n",
            "Accuracy when adam solver is used: 0.8727329096264145  when max_iter =  1200\n",
            "No/Less chance of diabetes\n",
            "\n",
            "Accuracy when lbfgs solver is used: 0.8665323205704542  when max_iter =  1400\n",
            "No/Less chance of diabetes\n",
            "\n",
            "Accuracy when sgd solver is used: 0.8662222911176561  when max_iter =  1400\n",
            "No/Less chance of diabetes\n",
            "\n",
            "Accuracy when adam solver is used: 0.8694776003720354  when max_iter =  1400\n",
            "No/Less chance of diabetes\n",
            "\n",
            "Accuracy when lbfgs solver is used: 0.8687025267400403  when max_iter =  1600\n",
            "No/Less chance of diabetes\n",
            "\n",
            "Accuracy when sgd solver is used: 0.8665323205704542  when max_iter =  1600\n",
            "No/Less chance of diabetes\n",
            "\n",
            "Accuracy when adam solver is used: 0.8673073942024492  when max_iter =  1600\n",
            "No/Less chance of diabetes\n",
            "\n",
            "Accuracy when lbfgs solver is used: 0.8651371880328631  when max_iter =  1800\n",
            "No/Less chance of diabetes\n",
            "\n",
            "Accuracy when sgd solver is used: 0.863277011316075  when max_iter =  1800\n",
            "No/Less chance of diabetes\n",
            "\n",
            "Accuracy when adam solver is used: 0.8693225856456364  when max_iter =  1800\n",
            "No/Less chance of diabetes\n",
            "\n"
          ]
        }
      ]
    }
  ]
}