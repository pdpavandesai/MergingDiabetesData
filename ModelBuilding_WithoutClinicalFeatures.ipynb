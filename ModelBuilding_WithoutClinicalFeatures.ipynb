{
  "nbformat": 4,
  "nbformat_minor": 0,
  "metadata": {
    "colab": {
      "provenance": [],
      "authorship_tag": "ABX9TyPix/pa2ZbhOib75rsTxWBo",
      "include_colab_link": true
    },
    "kernelspec": {
      "name": "python3",
      "display_name": "Python 3"
    },
    "language_info": {
      "name": "python"
    }
  },
  "cells": [
    {
      "cell_type": "markdown",
      "metadata": {
        "id": "view-in-github",
        "colab_type": "text"
      },
      "source": [
        "<a href=\"https://colab.research.google.com/github/pdpavandesai/MergingDiabetesData/blob/main/ModelBuilding_WithoutClinicalFeatures.ipynb\" target=\"_parent\"><img src=\"https://colab.research.google.com/assets/colab-badge.svg\" alt=\"Open In Colab\"/></a>"
      ]
    },
    {
      "cell_type": "code",
      "execution_count": 38,
      "metadata": {
        "id": "qTmnBElxP4vS"
      },
      "outputs": [],
      "source": [
        "import warnings\n",
        "import numpy as np\n",
        "import pandas as pd\n",
        "import io\n",
        "import matplotlib.pyplot as plt\n",
        "import seaborn as sns\n",
        "warnings.filterwarnings('ignore')\n",
        "from sklearn.model_selection import train_test_split\n",
        "from sklearn.ensemble import GradientBoostingRegressor,RandomForestRegressor,VotingRegressor\n",
        "from sklearn.linear_model import LinearRegression\n",
        "from sklearn.metrics import mean_squared_error"
      ]
    },
    {
      "cell_type": "code",
      "source": [
        "from google.colab import files\n",
        "uploaded = files.upload()"
      ],
      "metadata": {
        "colab": {
          "base_uri": "https://localhost:8080/",
          "height": 73
        },
        "id": "HOUbiFluP-mz",
        "outputId": "92c935a9-2859-43af-aaab-c32c38784a4a"
      },
      "execution_count": 3,
      "outputs": [
        {
          "output_type": "display_data",
          "data": {
            "text/plain": [
              "<IPython.core.display.HTML object>"
            ],
            "text/html": [
              "\n",
              "     <input type=\"file\" id=\"files-872646ed-25dc-4ebe-a339-f7730ff1caac\" name=\"files[]\" multiple disabled\n",
              "        style=\"border:none\" />\n",
              "     <output id=\"result-872646ed-25dc-4ebe-a339-f7730ff1caac\">\n",
              "      Upload widget is only available when the cell has been executed in the\n",
              "      current browser session. Please rerun this cell to enable.\n",
              "      </output>\n",
              "      <script>// Copyright 2017 Google LLC\n",
              "//\n",
              "// Licensed under the Apache License, Version 2.0 (the \"License\");\n",
              "// you may not use this file except in compliance with the License.\n",
              "// You may obtain a copy of the License at\n",
              "//\n",
              "//      http://www.apache.org/licenses/LICENSE-2.0\n",
              "//\n",
              "// Unless required by applicable law or agreed to in writing, software\n",
              "// distributed under the License is distributed on an \"AS IS\" BASIS,\n",
              "// WITHOUT WARRANTIES OR CONDITIONS OF ANY KIND, either express or implied.\n",
              "// See the License for the specific language governing permissions and\n",
              "// limitations under the License.\n",
              "\n",
              "/**\n",
              " * @fileoverview Helpers for google.colab Python module.\n",
              " */\n",
              "(function(scope) {\n",
              "function span(text, styleAttributes = {}) {\n",
              "  const element = document.createElement('span');\n",
              "  element.textContent = text;\n",
              "  for (const key of Object.keys(styleAttributes)) {\n",
              "    element.style[key] = styleAttributes[key];\n",
              "  }\n",
              "  return element;\n",
              "}\n",
              "\n",
              "// Max number of bytes which will be uploaded at a time.\n",
              "const MAX_PAYLOAD_SIZE = 100 * 1024;\n",
              "\n",
              "function _uploadFiles(inputId, outputId) {\n",
              "  const steps = uploadFilesStep(inputId, outputId);\n",
              "  const outputElement = document.getElementById(outputId);\n",
              "  // Cache steps on the outputElement to make it available for the next call\n",
              "  // to uploadFilesContinue from Python.\n",
              "  outputElement.steps = steps;\n",
              "\n",
              "  return _uploadFilesContinue(outputId);\n",
              "}\n",
              "\n",
              "// This is roughly an async generator (not supported in the browser yet),\n",
              "// where there are multiple asynchronous steps and the Python side is going\n",
              "// to poll for completion of each step.\n",
              "// This uses a Promise to block the python side on completion of each step,\n",
              "// then passes the result of the previous step as the input to the next step.\n",
              "function _uploadFilesContinue(outputId) {\n",
              "  const outputElement = document.getElementById(outputId);\n",
              "  const steps = outputElement.steps;\n",
              "\n",
              "  const next = steps.next(outputElement.lastPromiseValue);\n",
              "  return Promise.resolve(next.value.promise).then((value) => {\n",
              "    // Cache the last promise value to make it available to the next\n",
              "    // step of the generator.\n",
              "    outputElement.lastPromiseValue = value;\n",
              "    return next.value.response;\n",
              "  });\n",
              "}\n",
              "\n",
              "/**\n",
              " * Generator function which is called between each async step of the upload\n",
              " * process.\n",
              " * @param {string} inputId Element ID of the input file picker element.\n",
              " * @param {string} outputId Element ID of the output display.\n",
              " * @return {!Iterable<!Object>} Iterable of next steps.\n",
              " */\n",
              "function* uploadFilesStep(inputId, outputId) {\n",
              "  const inputElement = document.getElementById(inputId);\n",
              "  inputElement.disabled = false;\n",
              "\n",
              "  const outputElement = document.getElementById(outputId);\n",
              "  outputElement.innerHTML = '';\n",
              "\n",
              "  const pickedPromise = new Promise((resolve) => {\n",
              "    inputElement.addEventListener('change', (e) => {\n",
              "      resolve(e.target.files);\n",
              "    });\n",
              "  });\n",
              "\n",
              "  const cancel = document.createElement('button');\n",
              "  inputElement.parentElement.appendChild(cancel);\n",
              "  cancel.textContent = 'Cancel upload';\n",
              "  const cancelPromise = new Promise((resolve) => {\n",
              "    cancel.onclick = () => {\n",
              "      resolve(null);\n",
              "    };\n",
              "  });\n",
              "\n",
              "  // Wait for the user to pick the files.\n",
              "  const files = yield {\n",
              "    promise: Promise.race([pickedPromise, cancelPromise]),\n",
              "    response: {\n",
              "      action: 'starting',\n",
              "    }\n",
              "  };\n",
              "\n",
              "  cancel.remove();\n",
              "\n",
              "  // Disable the input element since further picks are not allowed.\n",
              "  inputElement.disabled = true;\n",
              "\n",
              "  if (!files) {\n",
              "    return {\n",
              "      response: {\n",
              "        action: 'complete',\n",
              "      }\n",
              "    };\n",
              "  }\n",
              "\n",
              "  for (const file of files) {\n",
              "    const li = document.createElement('li');\n",
              "    li.append(span(file.name, {fontWeight: 'bold'}));\n",
              "    li.append(span(\n",
              "        `(${file.type || 'n/a'}) - ${file.size} bytes, ` +\n",
              "        `last modified: ${\n",
              "            file.lastModifiedDate ? file.lastModifiedDate.toLocaleDateString() :\n",
              "                                    'n/a'} - `));\n",
              "    const percent = span('0% done');\n",
              "    li.appendChild(percent);\n",
              "\n",
              "    outputElement.appendChild(li);\n",
              "\n",
              "    const fileDataPromise = new Promise((resolve) => {\n",
              "      const reader = new FileReader();\n",
              "      reader.onload = (e) => {\n",
              "        resolve(e.target.result);\n",
              "      };\n",
              "      reader.readAsArrayBuffer(file);\n",
              "    });\n",
              "    // Wait for the data to be ready.\n",
              "    let fileData = yield {\n",
              "      promise: fileDataPromise,\n",
              "      response: {\n",
              "        action: 'continue',\n",
              "      }\n",
              "    };\n",
              "\n",
              "    // Use a chunked sending to avoid message size limits. See b/62115660.\n",
              "    let position = 0;\n",
              "    do {\n",
              "      const length = Math.min(fileData.byteLength - position, MAX_PAYLOAD_SIZE);\n",
              "      const chunk = new Uint8Array(fileData, position, length);\n",
              "      position += length;\n",
              "\n",
              "      const base64 = btoa(String.fromCharCode.apply(null, chunk));\n",
              "      yield {\n",
              "        response: {\n",
              "          action: 'append',\n",
              "          file: file.name,\n",
              "          data: base64,\n",
              "        },\n",
              "      };\n",
              "\n",
              "      let percentDone = fileData.byteLength === 0 ?\n",
              "          100 :\n",
              "          Math.round((position / fileData.byteLength) * 100);\n",
              "      percent.textContent = `${percentDone}% done`;\n",
              "\n",
              "    } while (position < fileData.byteLength);\n",
              "  }\n",
              "\n",
              "  // All done.\n",
              "  yield {\n",
              "    response: {\n",
              "      action: 'complete',\n",
              "    }\n",
              "  };\n",
              "}\n",
              "\n",
              "scope.google = scope.google || {};\n",
              "scope.google.colab = scope.google.colab || {};\n",
              "scope.google.colab._files = {\n",
              "  _uploadFiles,\n",
              "  _uploadFilesContinue,\n",
              "};\n",
              "})(self);\n",
              "</script> "
            ]
          },
          "metadata": {}
        },
        {
          "output_type": "stream",
          "name": "stdout",
          "text": [
            "Saving FinalMegedDS.csv to FinalMegedDS.csv\n"
          ]
        }
      ]
    },
    {
      "cell_type": "code",
      "source": [
        "fmds_actual = pd.read_csv('FinalMegedDS.csv')\n",
        "fmds_copy = fmds_actual.copy()\n",
        "print(\"Shape of FMDS before removing duplicates: \",fmds_copy.shape)\n",
        "actual_rows = fmds_copy.shape[0]\n",
        "fmds_copy = fmds_copy.drop_duplicates()\n",
        "print('Shape of dataset after removing the duplicates: ',fmds_copy.shape)\n",
        "rows_after_deleting_duplicates = fmds_copy.shape[0]\n",
        "print('No.of Duplicate rows in the Ishan Dutta''s Dataset = ', (actual_rows - rows_after_deleting_duplicates))"
      ],
      "metadata": {
        "colab": {
          "base_uri": "https://localhost:8080/"
        },
        "id": "XpD2mkQRRAxt",
        "outputId": "b8a2017c-1cfe-4ed3-ab94-0e713305bcbb"
      },
      "execution_count": 4,
      "outputs": [
        {
          "output_type": "stream",
          "name": "stdout",
          "text": [
            "Shape of FMDS before removing duplicates:  (282675, 11)\n",
            "Shape of dataset after removing the duplicates:  (69522, 11)\n",
            "No.of Duplicate rows in the Ishan Duttas Dataset =  213153\n"
          ]
        }
      ]
    },
    {
      "cell_type": "code",
      "source": [
        "print(fmds_copy.head())\n",
        "print('')\n",
        "print('===Information of FMDS===')\n",
        "print(fmds_copy.info())\n",
        "print('')\n",
        "print('===Description of FMDS===')\n",
        "print(fmds_copy.describe())"
      ],
      "metadata": {
        "colab": {
          "base_uri": "https://localhost:8080/"
        },
        "id": "xl_L5E8-SnoD",
        "outputId": "97662848-e2d8-4431-dade-11acf14d851f"
      },
      "execution_count": 5,
      "outputs": [
        {
          "output_type": "stream",
          "name": "stdout",
          "text": [
            "   Gender  Age  HighBP   BMI  Smoker  HeartDisease  HbA1cLevel  \\\n",
            "0       0    9       1  40.0       1           1.0    5.211000   \n",
            "1       0    7       0  25.0       1           0.0    4.729000   \n",
            "2       0    9       1  28.0       0           1.0    4.975333   \n",
            "3       0   11       1  27.0       0           0.0    4.917000   \n",
            "4       0   11       1  24.0       0           1.0    5.149000   \n",
            "\n",
            "   BloodGlucoseLevel  HighChol  HvyAlcoholConsump  Diabetes  \n",
            "0          96.950000       1.0                  0         0  \n",
            "1          91.190000       0.0                  0         0  \n",
            "2          96.293333       1.0                  0         0  \n",
            "3          91.285000       0.0                  0         0  \n",
            "4          98.700000       1.0                  0         0  \n",
            "\n",
            "===Information of FMDS===\n",
            "<class 'pandas.core.frame.DataFrame'>\n",
            "Int64Index: 69522 entries, 0 to 282674\n",
            "Data columns (total 11 columns):\n",
            " #   Column             Non-Null Count  Dtype  \n",
            "---  ------             --------------  -----  \n",
            " 0   Gender             69522 non-null  int64  \n",
            " 1   Age                69522 non-null  int64  \n",
            " 2   HighBP             69522 non-null  int64  \n",
            " 3   BMI                69522 non-null  float64\n",
            " 4   Smoker             69522 non-null  int64  \n",
            " 5   HeartDisease       69522 non-null  float64\n",
            " 6   HbA1cLevel         69522 non-null  float64\n",
            " 7   BloodGlucoseLevel  69522 non-null  float64\n",
            " 8   HighChol           69522 non-null  float64\n",
            " 9   HvyAlcoholConsump  69522 non-null  int64  \n",
            " 10  Diabetes           69522 non-null  int64  \n",
            "dtypes: float64(5), int64(6)\n",
            "memory usage: 6.4 MB\n",
            "None\n",
            "\n",
            "===Description of FMDS===\n",
            "             Gender           Age        HighBP           BMI        Smoker  \\\n",
            "count  69522.000000  69522.000000  69522.000000  69522.000000  69522.000000   \n",
            "mean       0.414847      6.465924      0.218794     30.026685      1.208812   \n",
            "std        0.492787      3.731671      0.413432      9.127582      0.828653   \n",
            "min        0.000000      0.000000      0.000000     10.080000      0.000000   \n",
            "25%        0.000000      3.000000      0.000000     24.410000      0.000000   \n",
            "50%        0.000000      7.000000      0.000000     27.520000      1.000000   \n",
            "75%        1.000000      9.000000      0.000000     33.670000      2.000000   \n",
            "max        2.000000     13.000000      1.000000     98.000000      2.000000   \n",
            "\n",
            "       HeartDisease    HbA1cLevel  BloodGlucoseLevel      HighChol  \\\n",
            "count  69522.000000  69522.000000       69522.000000  69522.000000   \n",
            "mean       0.107126      5.734227         141.059745      0.312887   \n",
            "std        0.304343      1.177289          42.458554      0.463020   \n",
            "min        0.000000      3.500000          80.000000      0.000000   \n",
            "25%        0.000000      4.892083         100.000000      0.000000   \n",
            "50%        0.000000      5.800000         145.000000      0.000000   \n",
            "75%        0.000000      6.500000         159.000000      1.000000   \n",
            "max        1.000000      9.000000         300.000000      1.000000   \n",
            "\n",
            "       HvyAlcoholConsump      Diabetes  \n",
            "count       69522.000000  69522.000000  \n",
            "mean            0.481157      0.283162  \n",
            "std             0.499648      0.605015  \n",
            "min             0.000000      0.000000  \n",
            "25%             0.000000      0.000000  \n",
            "50%             0.000000      0.000000  \n",
            "75%             1.000000      0.000000  \n",
            "max             1.000000      2.000000  \n"
          ]
        }
      ]
    },
    {
      "cell_type": "code",
      "source": [
        "print('===No.of Unique Values===')\n",
        "print(fmds_copy.nunique())\n",
        "print('')\n",
        "print('===Check for any NAN values===')\n",
        "print(fmds_copy.isnull().sum())"
      ],
      "metadata": {
        "colab": {
          "base_uri": "https://localhost:8080/"
        },
        "id": "Gz-M0M4ETFY2",
        "outputId": "a80142df-e40d-42ca-ff69-e2a1b6eed140"
      },
      "execution_count": 6,
      "outputs": [
        {
          "output_type": "stream",
          "name": "stdout",
          "text": [
            "===No.of Unique Values===\n",
            "Gender                  3\n",
            "Age                    14\n",
            "HighBP                  2\n",
            "BMI                  3866\n",
            "Smoker                  3\n",
            "HeartDisease          110\n",
            "HbA1cLevel           4359\n",
            "BloodGlucoseLevel    8314\n",
            "HighChol                6\n",
            "HvyAlcoholConsump       2\n",
            "Diabetes                3\n",
            "dtype: int64\n",
            "\n",
            "===Check for any NAN values===\n",
            "Gender               0\n",
            "Age                  0\n",
            "HighBP               0\n",
            "BMI                  0\n",
            "Smoker               0\n",
            "HeartDisease         0\n",
            "HbA1cLevel           0\n",
            "BloodGlucoseLevel    0\n",
            "HighChol             0\n",
            "HvyAlcoholConsump    0\n",
            "Diabetes             0\n",
            "dtype: int64\n"
          ]
        }
      ]
    },
    {
      "cell_type": "code",
      "source": [
        "fmds_train = fmds_copy.copy()\n",
        "y = fmds_train.Diabetes\n",
        "X = fmds_train.drop(['Diabetes'], axis=1)\n",
        "print(X)\n",
        "print(y)"
      ],
      "metadata": {
        "id": "CCVcADY373fj",
        "outputId": "440b9916-13a1-479f-9b87-2778ad59a30b",
        "colab": {
          "base_uri": "https://localhost:8080/"
        }
      },
      "execution_count": 30,
      "outputs": [
        {
          "output_type": "stream",
          "name": "stdout",
          "text": [
            "        Gender  Age  HighBP    BMI  Smoker  HeartDisease  HbA1cLevel  \\\n",
            "0            0    9       1  40.00       1           1.0    5.211000   \n",
            "1            0    7       0  25.00       1           0.0    4.729000   \n",
            "2            0    9       1  28.00       0           1.0    4.975333   \n",
            "3            0   11       1  27.00       0           0.0    4.917000   \n",
            "4            0   11       1  24.00       0           1.0    5.149000   \n",
            "...        ...  ...     ...    ...     ...           ...         ...   \n",
            "282670       0    2       0  34.34       2           0.0    6.500000   \n",
            "282671       0    5       0  40.69       2           0.0    3.500000   \n",
            "282672       1   10       0  27.83       1           0.0    5.700000   \n",
            "282673       0    1       0  35.42       2           0.0    4.000000   \n",
            "282674       0    8       0  22.43       0           0.0    6.600000   \n",
            "\n",
            "        BloodGlucoseLevel  HighChol  HvyAlcoholConsump  \n",
            "0               96.950000       1.0                  0  \n",
            "1               91.190000       0.0                  0  \n",
            "2               96.293333       1.0                  0  \n",
            "3               91.285000       0.0                  0  \n",
            "4               98.700000       1.0                  0  \n",
            "...                   ...       ...                ...  \n",
            "282670         160.000000       1.0                  1  \n",
            "282671         155.000000       0.0                  1  \n",
            "282672         155.000000       0.0                  1  \n",
            "282673         100.000000       0.0                  0  \n",
            "282674          90.000000       1.0                  0  \n",
            "\n",
            "[69522 rows x 10 columns]\n",
            "0         0\n",
            "1         0\n",
            "2         0\n",
            "3         0\n",
            "4         0\n",
            "         ..\n",
            "282670    0\n",
            "282671    0\n",
            "282672    0\n",
            "282673    0\n",
            "282674    0\n",
            "Name: Diabetes, Length: 69522, dtype: int64\n"
          ]
        }
      ]
    },
    {
      "cell_type": "code",
      "source": [
        "X_train, X_val, y_train, y_val = train_test_split(X,y,test_size=0.1, random_state=1)\n",
        "X_train.shape,y_train.shape,X_val.shape,y_val.shape"
      ],
      "metadata": {
        "id": "zvI7cuyU9WiG",
        "outputId": "09fd569c-e02a-4e40-b845-4b3d3fc1aa64",
        "colab": {
          "base_uri": "https://localhost:8080/"
        }
      },
      "execution_count": 31,
      "outputs": [
        {
          "output_type": "execute_result",
          "data": {
            "text/plain": [
              "((62569, 10), (62569,), (6953, 10), (6953,))"
            ]
          },
          "metadata": {},
          "execution_count": 31
        }
      ]
    },
    {
      "cell_type": "code",
      "source": [
        "GBR = GradientBoostingRegressor(random_state=1, n_estimators=1000, max_depth=10).fit(X_train,y_train)\n",
        "print(GBR.score(X_train,y_train))"
      ],
      "metadata": {
        "id": "Tzk-PZ6499Ob",
        "outputId": "f0448e45-f646-4caf-dca3-b2c48249604d",
        "colab": {
          "base_uri": "https://localhost:8080/"
        }
      },
      "execution_count": 35,
      "outputs": [
        {
          "output_type": "stream",
          "name": "stdout",
          "text": [
            "0.9554957773603292\n"
          ]
        }
      ]
    },
    {
      "cell_type": "code",
      "source": [
        "GBR_pred = GBR.predict(X_val)\n",
        "print(GBR_pred)\n",
        "rms = mean_squared_error(y_val,GBR_pred,squared=True)\n",
        "print(rms)"
      ],
      "metadata": {
        "id": "31psIhZTB54z",
        "outputId": "8fd57374-5da3-4778-ec88-6c86530c3d94",
        "colab": {
          "base_uri": "https://localhost:8080/"
        }
      },
      "execution_count": 39,
      "outputs": [
        {
          "output_type": "stream",
          "name": "stdout",
          "text": [
            "[ 0.00040255 -0.00118789 -0.00227224 ... -0.00078314  0.01716974\n",
            "  0.00053802]\n",
            "0.0852786473547993\n"
          ]
        }
      ]
    },
    {
      "cell_type": "code",
      "source": [
        "plt.figure(figsize=(10,10))\n",
        "plt.scatter(y_val,GBR_pred,c='crimson')\n",
        "plt.yscale('log')\n",
        "plt.xscale('log')\n",
        "\n",
        "p1 = max(max(GBR_pred), max(y_val))\n",
        "p2 = min(min(GBR_pred), min(y_val))\n",
        "plt.plot([p1,p2],[p1,p2],'b-')\n",
        "plt.xlabel('Actual Values', fontsize=15)\n",
        "plt.xlabel('Prediction', fontsize=15)\n",
        "plt.axis('equal')\n",
        "plt.show()"
      ],
      "metadata": {
        "id": "unHwFnoSDeJK",
        "outputId": "287ee93d-6c1d-4627-b8e1-cf0dc1d8fb5d",
        "colab": {
          "base_uri": "https://localhost:8080/",
          "height": 860
        }
      },
      "execution_count": 40,
      "outputs": [
        {
          "output_type": "display_data",
          "data": {
            "text/plain": [
              "<Figure size 1000x1000 with 1 Axes>"
            ],
            "image/png": "[encoded data removed]"
          },
          "metadata": {}
        }
      ]
    },
    {
      "cell_type": "code",
      "source": [],
      "metadata": {
        "id": "umRZrbQDGbSd"
      },
      "execution_count": null,
      "outputs": []
    }
  ]
}