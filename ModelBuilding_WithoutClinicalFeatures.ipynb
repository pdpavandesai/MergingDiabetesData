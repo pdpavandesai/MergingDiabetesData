{
  "nbformat": 4,
  "nbformat_minor": 0,
  "metadata": {
    "colab": {
      "provenance": [],
      "authorship_tag": "ABX9TyPeBY8MK3VPjMNNtulkeqbV",
      "include_colab_link": true
    },
    "kernelspec": {
      "name": "python3",
      "display_name": "Python 3"
    },
    "language_info": {
      "name": "python"
    }
  },
  "cells": [
    {
      "cell_type": "markdown",
      "metadata": {
        "id": "view-in-github",
        "colab_type": "text"
      },
      "source": [
        "<a href=\"https://colab.research.google.com/github/pdpavandesai/MergingDiabetesData/blob/main/ModelBuilding_WithoutClinicalFeatures.ipynb\" target=\"_parent\"><img src=\"https://colab.research.google.com/assets/colab-badge.svg\" alt=\"Open In Colab\"/></a>"
      ]
    },
    {
      "cell_type": "code",
      "execution_count": 1,
      "metadata": {
        "id": "qTmnBElxP4vS"
      },
      "outputs": [],
      "source": [
        "import warnings\n",
        "import numpy as np\n",
        "import pandas as pd\n",
        "import io\n",
        "import matplotlib.pyplot as plt\n",
        "import seaborn as sns\n",
        "warnings.filterwarnings('ignore')\n",
        "from sklearn.model_selection import train_test_split\n",
        "from sklearn.neural_network import MLPClassifier"
      ]
    },
    {
      "cell_type": "code",
      "source": [
        "from google.colab import files\n",
        "uploaded = files.upload()"
      ],
      "metadata": {
        "colab": {
          "base_uri": "https://localhost:8080/",
          "height": 74
        },
        "id": "HOUbiFluP-mz",
        "outputId": "8891bff9-2737-4a62-aec7-d05a6f228ead"
      },
      "execution_count": 2,
      "outputs": [
        {
          "output_type": "display_data",
          "data": {
            "text/plain": [
              "<IPython.core.display.HTML object>"
            ],
            "text/html": [
              "\n",
              "     <input type=\"file\" id=\"files-8fdb765e-e3f9-45c0-8cd6-cac875b5896e\" name=\"files[]\" multiple disabled\n",
              "        style=\"border:none\" />\n",
              "     <output id=\"result-8fdb765e-e3f9-45c0-8cd6-cac875b5896e\">\n",
              "      Upload widget is only available when the cell has been executed in the\n",
              "      current browser session. Please rerun this cell to enable.\n",
              "      </output>\n",
              "      <script>// Copyright 2017 Google LLC\n",
              "//\n",
              "// Licensed under the Apache License, Version 2.0 (the \"License\");\n",
              "// you may not use this file except in compliance with the License.\n",
              "// You may obtain a copy of the License at\n",
              "//\n",
              "//      http://www.apache.org/licenses/LICENSE-2.0\n",
              "//\n",
              "// Unless required by applicable law or agreed to in writing, software\n",
              "// distributed under the License is distributed on an \"AS IS\" BASIS,\n",
              "// WITHOUT WARRANTIES OR CONDITIONS OF ANY KIND, either express or implied.\n",
              "// See the License for the specific language governing permissions and\n",
              "// limitations under the License.\n",
              "\n",
              "/**\n",
              " * @fileoverview Helpers for google.colab Python module.\n",
              " */\n",
              "(function(scope) {\n",
              "function span(text, styleAttributes = {}) {\n",
              "  const element = document.createElement('span');\n",
              "  element.textContent = text;\n",
              "  for (const key of Object.keys(styleAttributes)) {\n",
              "    element.style[key] = styleAttributes[key];\n",
              "  }\n",
              "  return element;\n",
              "}\n",
              "\n",
              "// Max number of bytes which will be uploaded at a time.\n",
              "const MAX_PAYLOAD_SIZE = 100 * 1024;\n",
              "\n",
              "function _uploadFiles(inputId, outputId) {\n",
              "  const steps = uploadFilesStep(inputId, outputId);\n",
              "  const outputElement = document.getElementById(outputId);\n",
              "  // Cache steps on the outputElement to make it available for the next call\n",
              "  // to uploadFilesContinue from Python.\n",
              "  outputElement.steps = steps;\n",
              "\n",
              "  return _uploadFilesContinue(outputId);\n",
              "}\n",
              "\n",
              "// This is roughly an async generator (not supported in the browser yet),\n",
              "// where there are multiple asynchronous steps and the Python side is going\n",
              "// to poll for completion of each step.\n",
              "// This uses a Promise to block the python side on completion of each step,\n",
              "// then passes the result of the previous step as the input to the next step.\n",
              "function _uploadFilesContinue(outputId) {\n",
              "  const outputElement = document.getElementById(outputId);\n",
              "  const steps = outputElement.steps;\n",
              "\n",
              "  const next = steps.next(outputElement.lastPromiseValue);\n",
              "  return Promise.resolve(next.value.promise).then((value) => {\n",
              "    // Cache the last promise value to make it available to the next\n",
              "    // step of the generator.\n",
              "    outputElement.lastPromiseValue = value;\n",
              "    return next.value.response;\n",
              "  });\n",
              "}\n",
              "\n",
              "/**\n",
              " * Generator function which is called between each async step of the upload\n",
              " * process.\n",
              " * @param {string} inputId Element ID of the input file picker element.\n",
              " * @param {string} outputId Element ID of the output display.\n",
              " * @return {!Iterable<!Object>} Iterable of next steps.\n",
              " */\n",
              "function* uploadFilesStep(inputId, outputId) {\n",
              "  const inputElement = document.getElementById(inputId);\n",
              "  inputElement.disabled = false;\n",
              "\n",
              "  const outputElement = document.getElementById(outputId);\n",
              "  outputElement.innerHTML = '';\n",
              "\n",
              "  const pickedPromise = new Promise((resolve) => {\n",
              "    inputElement.addEventListener('change', (e) => {\n",
              "      resolve(e.target.files);\n",
              "    });\n",
              "  });\n",
              "\n",
              "  const cancel = document.createElement('button');\n",
              "  inputElement.parentElement.appendChild(cancel);\n",
              "  cancel.textContent = 'Cancel upload';\n",
              "  const cancelPromise = new Promise((resolve) => {\n",
              "    cancel.onclick = () => {\n",
              "      resolve(null);\n",
              "    };\n",
              "  });\n",
              "\n",
              "  // Wait for the user to pick the files.\n",
              "  const files = yield {\n",
              "    promise: Promise.race([pickedPromise, cancelPromise]),\n",
              "    response: {\n",
              "      action: 'starting',\n",
              "    }\n",
              "  };\n",
              "\n",
              "  cancel.remove();\n",
              "\n",
              "  // Disable the input element since further picks are not allowed.\n",
              "  inputElement.disabled = true;\n",
              "\n",
              "  if (!files) {\n",
              "    return {\n",
              "      response: {\n",
              "        action: 'complete',\n",
              "      }\n",
              "    };\n",
              "  }\n",
              "\n",
              "  for (const file of files) {\n",
              "    const li = document.createElement('li');\n",
              "    li.append(span(file.name, {fontWeight: 'bold'}));\n",
              "    li.append(span(\n",
              "        `(${file.type || 'n/a'}) - ${file.size} bytes, ` +\n",
              "        `last modified: ${\n",
              "            file.lastModifiedDate ? file.lastModifiedDate.toLocaleDateString() :\n",
              "                                    'n/a'} - `));\n",
              "    const percent = span('0% done');\n",
              "    li.appendChild(percent);\n",
              "\n",
              "    outputElement.appendChild(li);\n",
              "\n",
              "    const fileDataPromise = new Promise((resolve) => {\n",
              "      const reader = new FileReader();\n",
              "      reader.onload = (e) => {\n",
              "        resolve(e.target.result);\n",
              "      };\n",
              "      reader.readAsArrayBuffer(file);\n",
              "    });\n",
              "    // Wait for the data to be ready.\n",
              "    let fileData = yield {\n",
              "      promise: fileDataPromise,\n",
              "      response: {\n",
              "        action: 'continue',\n",
              "      }\n",
              "    };\n",
              "\n",
              "    // Use a chunked sending to avoid message size limits. See b/62115660.\n",
              "    let position = 0;\n",
              "    do {\n",
              "      const length = Math.min(fileData.byteLength - position, MAX_PAYLOAD_SIZE);\n",
              "      const chunk = new Uint8Array(fileData, position, length);\n",
              "      position += length;\n",
              "\n",
              "      const base64 = btoa(String.fromCharCode.apply(null, chunk));\n",
              "      yield {\n",
              "        response: {\n",
              "          action: 'append',\n",
              "          file: file.name,\n",
              "          data: base64,\n",
              "        },\n",
              "      };\n",
              "\n",
              "      let percentDone = fileData.byteLength === 0 ?\n",
              "          100 :\n",
              "          Math.round((position / fileData.byteLength) * 100);\n",
              "      percent.textContent = `${percentDone}% done`;\n",
              "\n",
              "    } while (position < fileData.byteLength);\n",
              "  }\n",
              "\n",
              "  // All done.\n",
              "  yield {\n",
              "    response: {\n",
              "      action: 'complete',\n",
              "    }\n",
              "  };\n",
              "}\n",
              "\n",
              "scope.google = scope.google || {};\n",
              "scope.google.colab = scope.google.colab || {};\n",
              "scope.google.colab._files = {\n",
              "  _uploadFiles,\n",
              "  _uploadFilesContinue,\n",
              "};\n",
              "})(self);\n",
              "</script> "
            ]
          },
          "metadata": {}
        },
        {
          "output_type": "stream",
          "name": "stdout",
          "text": [
            "Saving FinalMergedDS.csv to FinalMergedDS.csv\n"
          ]
        }
      ]
    },
    {
      "cell_type": "code",
      "source": [
        "fmds_actual = pd.read_csv('FinalMergedDS.csv')\n",
        "fmds_copy = fmds_actual.copy()\n",
        "print(\"Shape of FMDS before removing duplicates: \",fmds_copy.shape)\n",
        "actual_rows = fmds_copy.shape[0]\n",
        "fmds_copy = fmds_copy.drop_duplicates()\n",
        "print('Shape of dataset after removing the duplicates: ',fmds_copy.shape)\n",
        "rows_after_deleting_duplicates = fmds_copy.shape[0]\n",
        "print('No.of Duplicate rows in the Ishan Dutta''s Dataset = ', (actual_rows - rows_after_deleting_duplicates))"
      ],
      "metadata": {
        "colab": {
          "base_uri": "https://localhost:8080/"
        },
        "id": "XpD2mkQRRAxt",
        "outputId": "e068a98d-4614-4470-f14f-23e7f8beff2f"
      },
      "execution_count": 4,
      "outputs": [
        {
          "output_type": "stream",
          "name": "stdout",
          "text": [
            "Shape of FMDS before removing duplicates:  (267882, 5)\n",
            "Shape of dataset after removing the duplicates:  (25802, 5)\n",
            "No.of Duplicate rows in the Ishan Duttas Dataset =  242080\n"
          ]
        }
      ]
    },
    {
      "cell_type": "code",
      "source": [
        "print(fmds_copy.head())\n",
        "print('')\n",
        "print('===Information of FMDS===')\n",
        "print(fmds_copy.info())\n",
        "print('')\n",
        "print('===Description of FMDS===')\n",
        "print(fmds_copy.describe())"
      ],
      "metadata": {
        "colab": {
          "base_uri": "https://localhost:8080/"
        },
        "id": "xl_L5E8-SnoD",
        "outputId": "e3b74dec-74df-4efd-a773-bfeba5c6b6c4"
      },
      "execution_count": 5,
      "outputs": [
        {
          "output_type": "stream",
          "name": "stdout",
          "text": [
            "   Age   BMI  HighChol  HighBP  Diabetes\n",
            "0    9  40.0         1       1         0\n",
            "1    7  25.0         0       0         0\n",
            "2    9  28.0         1       1         0\n",
            "3   11  27.0         0       1         0\n",
            "4   11  24.0         1       1         0\n",
            "\n",
            "===Information of FMDS===\n",
            "<class 'pandas.core.frame.DataFrame'>\n",
            "Int64Index: 25802 entries, 0 to 267878\n",
            "Data columns (total 5 columns):\n",
            " #   Column    Non-Null Count  Dtype  \n",
            "---  ------    --------------  -----  \n",
            " 0   Age       25802 non-null  int64  \n",
            " 1   BMI       25802 non-null  float64\n",
            " 2   HighChol  25802 non-null  int64  \n",
            " 3   HighBP    25802 non-null  int64  \n",
            " 4   Diabetes  25802 non-null  int64  \n",
            "dtypes: float64(1), int64(4)\n",
            "memory usage: 1.2 MB\n",
            "None\n",
            "\n",
            "===Description of FMDS===\n",
            "                Age           BMI      HighChol        HighBP      Diabetes\n",
            "count  25802.000000  25802.000000  25802.000000  25802.000000  25802.000000\n",
            "mean       6.605806     28.373999      0.218123      0.187001      0.165181\n",
            "std        3.836438      6.162468      0.412979      0.389920      0.371351\n",
            "min        0.000000     13.520000      0.000000      0.000000      0.000000\n",
            "25%        3.000000     23.720000      0.000000      0.000000      0.000000\n",
            "50%        7.000000     28.090000      0.000000      0.000000      0.000000\n",
            "75%       10.000000     32.960000      0.000000      0.000000      0.000000\n",
            "max       13.000000     41.490000      1.000000      1.000000      1.000000\n"
          ]
        }
      ]
    },
    {
      "cell_type": "code",
      "source": [
        "print('===No.of Unique Values===')\n",
        "print(fmds_copy.nunique())\n",
        "print('')\n",
        "print('===Check for any NAN values===')\n",
        "print(fmds_copy.isnull().sum())"
      ],
      "metadata": {
        "colab": {
          "base_uri": "https://localhost:8080/"
        },
        "id": "Gz-M0M4ETFY2",
        "outputId": "a5146909-f318-4998-8f0d-8061328e3382"
      },
      "execution_count": 6,
      "outputs": [
        {
          "output_type": "stream",
          "name": "stdout",
          "text": [
            "===No.of Unique Values===\n",
            "Age           14\n",
            "BMI         2708\n",
            "HighChol       2\n",
            "HighBP         2\n",
            "Diabetes       2\n",
            "dtype: int64\n",
            "\n",
            "===Check for any NAN values===\n",
            "Age         0\n",
            "BMI         0\n",
            "HighChol    0\n",
            "HighBP      0\n",
            "Diabetes    0\n",
            "dtype: int64\n"
          ]
        }
      ]
    },
    {
      "cell_type": "code",
      "source": [
        "plt.figure(figsize=(10,10))\n",
        "sns.countplot(data=fmds_copy, x='Diabetes')\n",
        "plt.title('Diabetes Count')\n",
        "plt.xlabel('Diabetes')\n",
        "plt.ylabel('Count')\n",
        "plt.show()"
      ],
      "metadata": {
        "id": "58jl7DIOQi12",
        "outputId": "afa669ee-6a79-4b72-cde1-c7e953284e56",
        "colab": {
          "base_uri": "https://localhost:8080/",
          "height": 872
        }
      },
      "execution_count": 23,
      "outputs": [
        {
          "output_type": "display_data",
          "data": {
            "text/plain": [
              "<Figure size 1000x1000 with 1 Axes>"
            ],
            "image/png": "[encoded data removed]"
          },
          "metadata": {}
        }
      ]
    },
    {
      "cell_type": "code",
      "source": [
        "# Splitting data into training & testing data\n",
        "X_train, X_test, y_train, y_test = train_test_split(fmds_copy.drop('Diabetes', axis=1), fmds_copy['Diabetes'], test_size=0.25, random_state=42)"
      ],
      "metadata": {
        "id": "umRZrbQDGbSd"
      },
      "execution_count": 24,
      "outputs": []
    },
    {
      "cell_type": "code",
      "source": [
        "# Creating ANN with different solvers and with max_iterations\n",
        "print('ANN model in predicting diabetes for clinical features\\n')\n",
        "for max_iterations in range(1000,2200,200):\n",
        "  for solvers in ['lbfgs','sgd','adam']:\n",
        "    model_sgd = MLPClassifier(hidden_layer_sizes=(128, 64, 32), activation='relu', solver=solvers, max_iter= max_iterations)\n",
        "    # Training model_sgd\n",
        "    model_sgd.fit(X_train, y_train)\n",
        "    # Evaluate model_sgd on test set\n",
        "    accuracy = model_sgd.score(X_test, y_test)\n",
        "    accuracy = round(accuracy*100,2)\n",
        "    print('Accuracy when', solvers, 'solver is used:', accuracy,'% when max_iter = ',max_iterations)\n",
        "    # Make predictions on new data\n",
        "    new_data = pd.DataFrame({'Age': [10], 'BMI': [34], 'HighChol': [1], 'HighBP': [1]})\n",
        "    predictions_sgg_model_sgd = model_sgd.predict(new_data)\n",
        "    if predictions_sgg_model_sgd == 1:\n",
        "      print('You have diabetes')\n",
        "      print('')\n",
        "    else:\n",
        "      print('You are free from diabtes')\n",
        "      print('')"
      ],
      "metadata": {
        "colab": {
          "base_uri": "https://localhost:8080/"
        },
        "id": "IlwVDtFzhWXN",
        "outputId": "7443a675-2fb9-4f1c-87b2-a07b123f9386"
      },
      "execution_count": 25,
      "outputs": [
        {
          "output_type": "stream",
          "name": "stdout",
          "text": [
            "ANN model in predicting diabetes for clinical features\n",
            "\n",
            "Accuracy when lbfgs solver is used: 86.5 % when max_iter =  1000\n",
            "You are free from diabtes\n",
            "\n",
            "Accuracy when sgd solver is used: 86.53 % when max_iter =  1000\n",
            "You are free from diabtes\n",
            "\n",
            "Accuracy when adam solver is used: 87.24 % when max_iter =  1000\n",
            "You are free from diabtes\n",
            "\n",
            "Accuracy when lbfgs solver is used: 86.53 % when max_iter =  1200\n",
            "You are free from diabtes\n",
            "\n",
            "Accuracy when sgd solver is used: 86.67 % when max_iter =  1200\n",
            "You are free from diabtes\n",
            "\n",
            "Accuracy when adam solver is used: 87.35 % when max_iter =  1200\n",
            "You are free from diabtes\n",
            "\n",
            "Accuracy when lbfgs solver is used: 86.59 % when max_iter =  1400\n",
            "You are free from diabtes\n",
            "\n",
            "Accuracy when sgd solver is used: 86.68 % when max_iter =  1400\n",
            "You are free from diabtes\n",
            "\n",
            "Accuracy when adam solver is used: 87.23 % when max_iter =  1400\n",
            "You are free from diabtes\n",
            "\n",
            "Accuracy when lbfgs solver is used: 86.45 % when max_iter =  1600\n",
            "You are free from diabtes\n",
            "\n",
            "Accuracy when sgd solver is used: 86.47 % when max_iter =  1600\n",
            "You are free from diabtes\n",
            "\n",
            "Accuracy when adam solver is used: 87.1 % when max_iter =  1600\n",
            "You are free from diabtes\n",
            "\n",
            "Accuracy when lbfgs solver is used: 86.68 % when max_iter =  1800\n",
            "You are free from diabtes\n",
            "\n",
            "Accuracy when sgd solver is used: 86.62 % when max_iter =  1800\n",
            "You are free from diabtes\n",
            "\n",
            "Accuracy when adam solver is used: 87.18 % when max_iter =  1800\n",
            "You are free from diabtes\n",
            "\n",
            "Accuracy when lbfgs solver is used: 86.58 % when max_iter =  2000\n",
            "You are free from diabtes\n",
            "\n",
            "Accuracy when sgd solver is used: 86.62 % when max_iter =  2000\n",
            "You are free from diabtes\n",
            "\n",
            "Accuracy when adam solver is used: 86.73 % when max_iter =  2000\n",
            "You are free from diabtes\n",
            "\n"
          ]
        }
      ]
    }
  ]
}