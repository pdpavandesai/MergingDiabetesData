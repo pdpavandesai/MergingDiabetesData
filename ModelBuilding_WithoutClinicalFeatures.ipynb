{
  "nbformat": 4,
  "nbformat_minor": 0,
  "metadata": {
    "colab": {
      "provenance": [],
      "authorship_tag": "ABX9TyPwvEN7xMgILVpiuBUK7W9Q",
      "include_colab_link": true
    },
    "kernelspec": {
      "name": "python3",
      "display_name": "Python 3"
    },
    "language_info": {
      "name": "python"
    }
  },
  "cells": [
    {
      "cell_type": "markdown",
      "metadata": {
        "id": "view-in-github",
        "colab_type": "text"
      },
      "source": [
        "<a href=\"https://colab.research.google.com/github/pdpavandesai/MergingDiabetesData/blob/main/ModelBuilding_WithoutClinicalFeatures.ipynb\" target=\"_parent\"><img src=\"https://colab.research.google.com/assets/colab-badge.svg\" alt=\"Open In Colab\"/></a>"
      ]
    },
    {
      "cell_type": "code",
      "execution_count": 1,
      "metadata": {
        "id": "qTmnBElxP4vS"
      },
      "outputs": [],
      "source": [
        "import warnings\n",
        "import numpy as np\n",
        "import pandas as pd\n",
        "import io\n",
        "import matplotlib.pyplot as plt\n",
        "import seaborn as sns\n",
        "warnings.filterwarnings('ignore')"
      ]
    },
    {
      "cell_type": "code",
      "source": [
        "from google.colab import files\n",
        "uploaded = files.upload()"
      ],
      "metadata": {
        "colab": {
          "base_uri": "https://localhost:8080/",
          "height": 74
        },
        "id": "HOUbiFluP-mz",
        "outputId": "da77b005-6577-4d2e-db42-5d015dcb8f46"
      },
      "execution_count": 2,
      "outputs": [
        {
          "output_type": "display_data",
          "data": {
            "text/plain": [
              "<IPython.core.display.HTML object>"
            ],
            "text/html": [
              "\n",
              "     <input type=\"file\" id=\"files-cd62b580-4e64-4c17-96e4-967939ae0d07\" name=\"files[]\" multiple disabled\n",
              "        style=\"border:none\" />\n",
              "     <output id=\"result-cd62b580-4e64-4c17-96e4-967939ae0d07\">\n",
              "      Upload widget is only available when the cell has been executed in the\n",
              "      current browser session. Please rerun this cell to enable.\n",
              "      </output>\n",
              "      <script>// Copyright 2017 Google LLC\n",
              "//\n",
              "// Licensed under the Apache License, Version 2.0 (the \"License\");\n",
              "// you may not use this file except in compliance with the License.\n",
              "// You may obtain a copy of the License at\n",
              "//\n",
              "//      http://www.apache.org/licenses/LICENSE-2.0\n",
              "//\n",
              "// Unless required by applicable law or agreed to in writing, software\n",
              "// distributed under the License is distributed on an \"AS IS\" BASIS,\n",
              "// WITHOUT WARRANTIES OR CONDITIONS OF ANY KIND, either express or implied.\n",
              "// See the License for the specific language governing permissions and\n",
              "// limitations under the License.\n",
              "\n",
              "/**\n",
              " * @fileoverview Helpers for google.colab Python module.\n",
              " */\n",
              "(function(scope) {\n",
              "function span(text, styleAttributes = {}) {\n",
              "  const element = document.createElement('span');\n",
              "  element.textContent = text;\n",
              "  for (const key of Object.keys(styleAttributes)) {\n",
              "    element.style[key] = styleAttributes[key];\n",
              "  }\n",
              "  return element;\n",
              "}\n",
              "\n",
              "// Max number of bytes which will be uploaded at a time.\n",
              "const MAX_PAYLOAD_SIZE = 100 * 1024;\n",
              "\n",
              "function _uploadFiles(inputId, outputId) {\n",
              "  const steps = uploadFilesStep(inputId, outputId);\n",
              "  const outputElement = document.getElementById(outputId);\n",
              "  // Cache steps on the outputElement to make it available for the next call\n",
              "  // to uploadFilesContinue from Python.\n",
              "  outputElement.steps = steps;\n",
              "\n",
              "  return _uploadFilesContinue(outputId);\n",
              "}\n",
              "\n",
              "// This is roughly an async generator (not supported in the browser yet),\n",
              "// where there are multiple asynchronous steps and the Python side is going\n",
              "// to poll for completion of each step.\n",
              "// This uses a Promise to block the python side on completion of each step,\n",
              "// then passes the result of the previous step as the input to the next step.\n",
              "function _uploadFilesContinue(outputId) {\n",
              "  const outputElement = document.getElementById(outputId);\n",
              "  const steps = outputElement.steps;\n",
              "\n",
              "  const next = steps.next(outputElement.lastPromiseValue);\n",
              "  return Promise.resolve(next.value.promise).then((value) => {\n",
              "    // Cache the last promise value to make it available to the next\n",
              "    // step of the generator.\n",
              "    outputElement.lastPromiseValue = value;\n",
              "    return next.value.response;\n",
              "  });\n",
              "}\n",
              "\n",
              "/**\n",
              " * Generator function which is called between each async step of the upload\n",
              " * process.\n",
              " * @param {string} inputId Element ID of the input file picker element.\n",
              " * @param {string} outputId Element ID of the output display.\n",
              " * @return {!Iterable<!Object>} Iterable of next steps.\n",
              " */\n",
              "function* uploadFilesStep(inputId, outputId) {\n",
              "  const inputElement = document.getElementById(inputId);\n",
              "  inputElement.disabled = false;\n",
              "\n",
              "  const outputElement = document.getElementById(outputId);\n",
              "  outputElement.innerHTML = '';\n",
              "\n",
              "  const pickedPromise = new Promise((resolve) => {\n",
              "    inputElement.addEventListener('change', (e) => {\n",
              "      resolve(e.target.files);\n",
              "    });\n",
              "  });\n",
              "\n",
              "  const cancel = document.createElement('button');\n",
              "  inputElement.parentElement.appendChild(cancel);\n",
              "  cancel.textContent = 'Cancel upload';\n",
              "  const cancelPromise = new Promise((resolve) => {\n",
              "    cancel.onclick = () => {\n",
              "      resolve(null);\n",
              "    };\n",
              "  });\n",
              "\n",
              "  // Wait for the user to pick the files.\n",
              "  const files = yield {\n",
              "    promise: Promise.race([pickedPromise, cancelPromise]),\n",
              "    response: {\n",
              "      action: 'starting',\n",
              "    }\n",
              "  };\n",
              "\n",
              "  cancel.remove();\n",
              "\n",
              "  // Disable the input element since further picks are not allowed.\n",
              "  inputElement.disabled = true;\n",
              "\n",
              "  if (!files) {\n",
              "    return {\n",
              "      response: {\n",
              "        action: 'complete',\n",
              "      }\n",
              "    };\n",
              "  }\n",
              "\n",
              "  for (const file of files) {\n",
              "    const li = document.createElement('li');\n",
              "    li.append(span(file.name, {fontWeight: 'bold'}));\n",
              "    li.append(span(\n",
              "        `(${file.type || 'n/a'}) - ${file.size} bytes, ` +\n",
              "        `last modified: ${\n",
              "            file.lastModifiedDate ? file.lastModifiedDate.toLocaleDateString() :\n",
              "                                    'n/a'} - `));\n",
              "    const percent = span('0% done');\n",
              "    li.appendChild(percent);\n",
              "\n",
              "    outputElement.appendChild(li);\n",
              "\n",
              "    const fileDataPromise = new Promise((resolve) => {\n",
              "      const reader = new FileReader();\n",
              "      reader.onload = (e) => {\n",
              "        resolve(e.target.result);\n",
              "      };\n",
              "      reader.readAsArrayBuffer(file);\n",
              "    });\n",
              "    // Wait for the data to be ready.\n",
              "    let fileData = yield {\n",
              "      promise: fileDataPromise,\n",
              "      response: {\n",
              "        action: 'continue',\n",
              "      }\n",
              "    };\n",
              "\n",
              "    // Use a chunked sending to avoid message size limits. See b/62115660.\n",
              "    let position = 0;\n",
              "    do {\n",
              "      const length = Math.min(fileData.byteLength - position, MAX_PAYLOAD_SIZE);\n",
              "      const chunk = new Uint8Array(fileData, position, length);\n",
              "      position += length;\n",
              "\n",
              "      const base64 = btoa(String.fromCharCode.apply(null, chunk));\n",
              "      yield {\n",
              "        response: {\n",
              "          action: 'append',\n",
              "          file: file.name,\n",
              "          data: base64,\n",
              "        },\n",
              "      };\n",
              "\n",
              "      let percentDone = fileData.byteLength === 0 ?\n",
              "          100 :\n",
              "          Math.round((position / fileData.byteLength) * 100);\n",
              "      percent.textContent = `${percentDone}% done`;\n",
              "\n",
              "    } while (position < fileData.byteLength);\n",
              "  }\n",
              "\n",
              "  // All done.\n",
              "  yield {\n",
              "    response: {\n",
              "      action: 'complete',\n",
              "    }\n",
              "  };\n",
              "}\n",
              "\n",
              "scope.google = scope.google || {};\n",
              "scope.google.colab = scope.google.colab || {};\n",
              "scope.google.colab._files = {\n",
              "  _uploadFiles,\n",
              "  _uploadFilesContinue,\n",
              "};\n",
              "})(self);\n",
              "</script> "
            ]
          },
          "metadata": {}
        },
        {
          "output_type": "stream",
          "name": "stdout",
          "text": [
            "Saving FinalMegedDS.csv to FinalMegedDS.csv\n"
          ]
        }
      ]
    },
    {
      "cell_type": "code",
      "source": [
        "fmds_actual = pd.read_csv('FinalMegedDS.csv')\n",
        "fmds_copy = fmds_actual.copy()\n",
        "print(\"Shape of FMDS before removing duplicates: \",fmds_copy.shape)\n",
        "actual_rows = fmds_copy.shape[0]\n",
        "fmds_copy = fmds_copy.drop_duplicates()\n",
        "print('Shape of dataset after removing the duplicates: ',fmds_copy.shape)\n",
        "rows_after_deleting_duplicates = fmds_copy.shape[0]\n",
        "print('No.of Duplicate rows in the Ishan Dutta''s Dataset = ', (actual_rows - rows_after_deleting_duplicates))"
      ],
      "metadata": {
        "colab": {
          "base_uri": "https://localhost:8080/"
        },
        "id": "XpD2mkQRRAxt",
        "outputId": "51d0637f-a6b8-4b28-f3f6-902ab87a54ff"
      },
      "execution_count": 3,
      "outputs": [
        {
          "output_type": "stream",
          "name": "stdout",
          "text": [
            "Shape of FMDS before removing duplicates:  (282675, 11)\n",
            "Shape of dataset after removing the duplicates:  (69522, 11)\n",
            "No.of Duplicate rows in the Ishan Duttas Dataset =  213153\n"
          ]
        }
      ]
    },
    {
      "cell_type": "code",
      "source": [
        "print(fmds_copy.head())\n",
        "print('')\n",
        "print('===Information of FMDS===')\n",
        "print(fmds_copy.info())\n",
        "print('')\n",
        "print('===Description of FMDS===')\n",
        "print(fmds_copy.describe())"
      ],
      "metadata": {
        "colab": {
          "base_uri": "https://localhost:8080/"
        },
        "id": "xl_L5E8-SnoD",
        "outputId": "9dade50e-1eab-4436-e3d4-dfe26666718c"
      },
      "execution_count": 5,
      "outputs": [
        {
          "output_type": "stream",
          "name": "stdout",
          "text": [
            "   Gender  Age  HighBP   BMI  Smoker  HeartDisease  HbA1cLevel  \\\n",
            "0       0    9       1  40.0       1           1.0    5.211000   \n",
            "1       0    7       0  25.0       1           0.0    4.729000   \n",
            "2       0    9       1  28.0       0           1.0    4.975333   \n",
            "3       0   11       1  27.0       0           0.0    4.917000   \n",
            "4       0   11       1  24.0       0           1.0    5.149000   \n",
            "\n",
            "   BloodGlucoseLevel  HighChol  HvyAlcoholConsump  Diabetes  \n",
            "0          96.950000       1.0                  0         0  \n",
            "1          91.190000       0.0                  0         0  \n",
            "2          96.293333       1.0                  0         0  \n",
            "3          91.285000       0.0                  0         0  \n",
            "4          98.700000       1.0                  0         0  \n",
            "\n",
            "===Information of FMDS===\n",
            "<class 'pandas.core.frame.DataFrame'>\n",
            "Int64Index: 69522 entries, 0 to 282674\n",
            "Data columns (total 11 columns):\n",
            " #   Column             Non-Null Count  Dtype  \n",
            "---  ------             --------------  -----  \n",
            " 0   Gender             69522 non-null  int64  \n",
            " 1   Age                69522 non-null  int64  \n",
            " 2   HighBP             69522 non-null  int64  \n",
            " 3   BMI                69522 non-null  float64\n",
            " 4   Smoker             69522 non-null  int64  \n",
            " 5   HeartDisease       69522 non-null  float64\n",
            " 6   HbA1cLevel         69522 non-null  float64\n",
            " 7   BloodGlucoseLevel  69522 non-null  float64\n",
            " 8   HighChol           69522 non-null  float64\n",
            " 9   HvyAlcoholConsump  69522 non-null  int64  \n",
            " 10  Diabetes           69522 non-null  int64  \n",
            "dtypes: float64(5), int64(6)\n",
            "memory usage: 6.4 MB\n",
            "None\n",
            "\n",
            "===Description of FMDS===\n",
            "             Gender           Age        HighBP           BMI        Smoker  \\\n",
            "count  69522.000000  69522.000000  69522.000000  69522.000000  69522.000000   \n",
            "mean       0.414847      6.465924      0.218794     30.026685      1.208812   \n",
            "std        0.492787      3.731671      0.413432      9.127582      0.828653   \n",
            "min        0.000000      0.000000      0.000000     10.080000      0.000000   \n",
            "25%        0.000000      3.000000      0.000000     24.410000      0.000000   \n",
            "50%        0.000000      7.000000      0.000000     27.520000      1.000000   \n",
            "75%        1.000000      9.000000      0.000000     33.670000      2.000000   \n",
            "max        2.000000     13.000000      1.000000     98.000000      2.000000   \n",
            "\n",
            "       HeartDisease    HbA1cLevel  BloodGlucoseLevel      HighChol  \\\n",
            "count  69522.000000  69522.000000       69522.000000  69522.000000   \n",
            "mean       0.107126      5.734227         141.059745      0.312887   \n",
            "std        0.304343      1.177289          42.458554      0.463020   \n",
            "min        0.000000      3.500000          80.000000      0.000000   \n",
            "25%        0.000000      4.892083         100.000000      0.000000   \n",
            "50%        0.000000      5.800000         145.000000      0.000000   \n",
            "75%        0.000000      6.500000         159.000000      1.000000   \n",
            "max        1.000000      9.000000         300.000000      1.000000   \n",
            "\n",
            "       HvyAlcoholConsump      Diabetes  \n",
            "count       69522.000000  69522.000000  \n",
            "mean            0.481157      0.283162  \n",
            "std             0.499648      0.605015  \n",
            "min             0.000000      0.000000  \n",
            "25%             0.000000      0.000000  \n",
            "50%             0.000000      0.000000  \n",
            "75%             1.000000      0.000000  \n",
            "max             1.000000      2.000000  \n"
          ]
        }
      ]
    },
    {
      "cell_type": "code",
      "source": [
        "print('===No.of Unique Values===')\n",
        "print(fmds_copy.nunique())\n",
        "print('')\n",
        "print('===Check for any NAN values===')\n",
        "print(fmds_copy.isnull().sum())"
      ],
      "metadata": {
        "colab": {
          "base_uri": "https://localhost:8080/"
        },
        "id": "Gz-M0M4ETFY2",
        "outputId": "b4af5070-c9c2-4f0d-a34f-9d902c1730d4"
      },
      "execution_count": 6,
      "outputs": [
        {
          "output_type": "stream",
          "name": "stdout",
          "text": [
            "===No.of Unique Values===\n",
            "Gender                  3\n",
            "Age                    14\n",
            "HighBP                  2\n",
            "BMI                  3866\n",
            "Smoker                  3\n",
            "HeartDisease          110\n",
            "HbA1cLevel           4359\n",
            "BloodGlucoseLevel    8314\n",
            "HighChol                6\n",
            "HvyAlcoholConsump       2\n",
            "Diabetes                3\n",
            "dtype: int64\n",
            "\n",
            "===Check for any NAN values===\n",
            "Gender               0\n",
            "Age                  0\n",
            "HighBP               0\n",
            "BMI                  0\n",
            "Smoker               0\n",
            "HeartDisease         0\n",
            "HbA1cLevel           0\n",
            "BloodGlucoseLevel    0\n",
            "HighChol             0\n",
            "HvyAlcoholConsump    0\n",
            "Diabetes             0\n",
            "dtype: int64\n"
          ]
        }
      ]
    },
    {
      "cell_type": "code",
      "source": [],
      "metadata": {
        "id": "sbFgt83HUdIo"
      },
      "execution_count": null,
      "outputs": []
    }
  ]
}